{
 "cells": [
  {
   "cell_type": "markdown",
   "id": "f64f911f-4004-49af-85c8-45ca21ee9f73",
   "metadata": {},
   "source": [
    "Using the covid-19 dataset, perform the following activities:\n",
    "<ol>\n",
    "    <li>Introduce the \"reduce\" of rmse with the different regressors (LinearRegressor, DecisionTreeRegressor, RandomForestRegressor) and using GridSearchCV to define the best parameter set for RandomForest </li>\n",
    "     <li>Investigate using Support Vector Regressor (sklearn.svm.SVR) by automatically varying the hyperparameters (kernel and C) and display the RMSE</li>\n",
    "</ol>"
   ]
  },
  {
   "cell_type": "markdown",
   "id": "74560c26-9f59-4a2c-85d9-1a7ba811937b",
   "metadata": {},
   "source": [
    "### Imports"
   ]
  },
  {
   "cell_type": "code",
   "execution_count": 47,
   "id": "ebd73d19-1481-496f-a93c-dc76b65dec33",
   "metadata": {},
   "outputs": [],
   "source": [
    "import pandas as pd\n",
    "import numpy as np\n",
    "import pickle\n",
    "from sklearn.linear_model import LinearRegression\n",
    "from sklearn.metrics import mean_squared_error"
   ]
  },
  {
   "cell_type": "markdown",
   "id": "55c627e5-b5de-4d71-81ef-b7ec99219e91",
   "metadata": {},
   "source": [
    "#### pickles"
   ]
  },
  {
   "cell_type": "code",
   "execution_count": 48,
   "id": "dcfe5681-6f34-4b9e-a28f-ad88e4076d76",
   "metadata": {},
   "outputs": [],
   "source": [
    "def read_pickle(name):\n",
    "    with (open(name, 'rb')) as openfile:\n",
    "        while True:\n",
    "            try:\n",
    "                one_instance = pickle.load(openfile)\n",
    "            except EOFError:\n",
    "                break\n",
    "    one_instance = np.asanyarray(one_instance)\n",
    "    return one_instance"
   ]
  },
  {
   "cell_type": "code",
   "execution_count": 49,
   "id": "9606b261-0c02-46d8-bf6c-1b0c8e4938d6",
   "metadata": {},
   "outputs": [],
   "source": [
    "X_train = read_pickle('X_train.pickle')\n",
    "X_test = read_pickle('X_test.pickle')\n",
    "y_train = read_pickle('y_train.pickle')\n",
    "y_test = read_pickle('y_test.pickle')"
   ]
  },
  {
   "cell_type": "code",
   "execution_count": 50,
   "id": "d25803c3-6706-40db-a83a-59d7a4c4b85c",
   "metadata": {},
   "outputs": [
    {
     "name": "stdout",
     "output_type": "stream",
     "text": [
      "(113319, 8) (28330, 8) (113319,) (28330,)\n"
     ]
    }
   ],
   "source": [
    "print(X_train.shape, X_test.shape, y_train.shape, y_test.shape)"
   ]
  },
  {
   "cell_type": "markdown",
   "id": "f4c3008b-c41e-486b-9d39-e327c10e9e2b",
   "metadata": {},
   "source": [
    "<ol>\n",
    "    <li> Introduce the \"reduce\" of rmse with the different regressors (LinearRegressor, DecisionTreeRegressor, RandomForestRegressor) and using GridSearchCV to define the best parameter set for RandomForest </li>\n",
    "</ol>"
   ]
  },
  {
   "cell_type": "markdown",
   "id": "d8069eef-edd7-438f-81be-5f4610574d29",
   "metadata": {},
   "source": [
    "### Linear Regression model training"
   ]
  },
  {
   "cell_type": "code",
   "execution_count": 51,
   "id": "3dd0af5a-acf2-4981-82b2-f7fd8ea85822",
   "metadata": {},
   "outputs": [
    {
     "data": {
      "text/plain": [
       "LinearRegression()"
      ]
     },
     "execution_count": 51,
     "metadata": {},
     "output_type": "execute_result"
    }
   ],
   "source": [
    "lin_reg = LinearRegression()\n",
    "lin_reg.fit(X_train, y_train) # y = ax + b"
   ]
  },
  {
   "cell_type": "code",
   "execution_count": 52,
   "id": "77002cd0-32f6-46c2-99ea-45ecbf00a5c3",
   "metadata": {},
   "outputs": [],
   "source": [
    "predictions = lin_reg.predict(X_test)"
   ]
  },
  {
   "cell_type": "code",
   "execution_count": 53,
   "id": "5ffbfd16-03c7-470f-9110-996617a4249e",
   "metadata": {},
   "outputs": [
    {
     "name": "stdout",
     "output_type": "stream",
     "text": [
      "(28330,)\n",
      "[[-0.15693134 -0.89557775 -0.16444942 ... -0.44246783 -0.04054729\n",
      "  -1.71091024]\n",
      " [ 0.06248738  1.59236828  0.08743955 ... -0.24793303 -0.04054729\n",
      "   0.65435965]\n",
      " [-0.13032957 -1.14600558 -0.16811707 ... -0.44246783 -0.04054729\n",
      "  -1.67999168]\n",
      " ...\n",
      " [-0.1404199   0.26401197 -0.14699534 ... -0.24486949 -0.04054729\n",
      "  -1.32442823]\n",
      " [-0.09730669  0.39466997 -0.11252925 ... -0.24640126 -0.04054729\n",
      "   0.11328484]\n",
      " [-0.16353592 -1.09156475 -0.1769751  ...  0.08599283 -0.04054729\n",
      "   0.40701116]]\n"
     ]
    }
   ],
   "source": [
    "print(predictions.shape)\n",
    "print(X_test)"
   ]
  },
  {
   "cell_type": "markdown",
   "id": "61d82b09-ad3e-4883-b577-e285a6fac1f9",
   "metadata": {},
   "source": [
    "#### Linear Regression model evaluation"
   ]
  },
  {
   "cell_type": "code",
   "execution_count": 54,
   "id": "46ec5c93-e361-4666-aae6-6f9a00f9055d",
   "metadata": {},
   "outputs": [
    {
     "name": "stdout",
     "output_type": "stream",
     "text": [
      "11.67034187195746\n"
     ]
    }
   ],
   "source": [
    "lin_mse = mean_squared_error(y_test, predictions)\n",
    "lin_rmse = np.sqrt(lin_mse)\n",
    "print(lin_rmse)"
   ]
  },
  {
   "cell_type": "markdown",
   "id": "12aa440b-60b6-4073-9f2a-1520831bdc4e",
   "metadata": {},
   "source": [
    "### selecting the Regressor Decision Tree"
   ]
  },
  {
   "cell_type": "code",
   "execution_count": 55,
   "id": "167f44d5-ff90-4b54-956b-6f151bb42618",
   "metadata": {},
   "outputs": [],
   "source": [
    "from sklearn.tree import DecisionTreeRegressor"
   ]
  },
  {
   "cell_type": "code",
   "execution_count": 56,
   "id": "d82f2793-3b72-435a-bcd1-0453b31336ce",
   "metadata": {},
   "outputs": [
    {
     "data": {
      "text/plain": [
       "DecisionTreeRegressor()"
      ]
     },
     "execution_count": 56,
     "metadata": {},
     "output_type": "execute_result"
    }
   ],
   "source": [
    "dt_reg = DecisionTreeRegressor()\n",
    "dt_reg.fit(X_train, y_train)"
   ]
  },
  {
   "cell_type": "code",
   "execution_count": 57,
   "id": "4d153c5c-4afb-4482-aaf7-71f42efed1b9",
   "metadata": {},
   "outputs": [
    {
     "data": {
      "text/plain": [
       "{'ccp_alpha': 0.0,\n",
       " 'criterion': 'mse',\n",
       " 'max_depth': None,\n",
       " 'max_features': None,\n",
       " 'max_leaf_nodes': None,\n",
       " 'min_impurity_decrease': 0.0,\n",
       " 'min_impurity_split': None,\n",
       " 'min_samples_leaf': 1,\n",
       " 'min_samples_split': 2,\n",
       " 'min_weight_fraction_leaf': 0.0,\n",
       " 'random_state': None,\n",
       " 'splitter': 'best'}"
      ]
     },
     "execution_count": 57,
     "metadata": {},
     "output_type": "execute_result"
    }
   ],
   "source": [
    "dt_reg.get_params()"
   ]
  },
  {
   "cell_type": "code",
   "execution_count": 58,
   "id": "5bb3e646-20a0-47e7-bf20-1355e573be68",
   "metadata": {},
   "outputs": [],
   "source": [
    "predictions = dt_reg.predict(X_test)\n",
    "#predictions.shape"
   ]
  },
  {
   "cell_type": "code",
   "execution_count": 59,
   "id": "b5637a9d-4ac8-49e6-8738-078678fbcb1b",
   "metadata": {},
   "outputs": [
    {
     "name": "stdout",
     "output_type": "stream",
     "text": [
      "1.064343643499513\n"
     ]
    }
   ],
   "source": [
    "dt_mse = mean_squared_error(y_test, predictions)\n",
    "dt_rmse = np.sqrt(dt_mse)\n",
    "print(dt_rmse)"
   ]
  },
  {
   "cell_type": "markdown",
   "id": "67bfcb58-611d-4c92-9c0e-f5d83e627bbb",
   "metadata": {},
   "source": [
    "### Random Forest Regressor"
   ]
  },
  {
   "cell_type": "code",
   "execution_count": 60,
   "id": "6ed3a0dd-efcb-4a3f-81d2-aa98a433af40",
   "metadata": {},
   "outputs": [],
   "source": [
    "from sklearn.ensemble import RandomForestRegressor"
   ]
  },
  {
   "cell_type": "code",
   "execution_count": 61,
   "id": "e7a15956-3017-45b4-8a4a-6cfa63d5bda9",
   "metadata": {},
   "outputs": [
    {
     "data": {
      "text/plain": [
       "RandomForestRegressor()"
      ]
     },
     "execution_count": 61,
     "metadata": {},
     "output_type": "execute_result"
    }
   ],
   "source": [
    "rf_reg = RandomForestRegressor()\n",
    "rf_reg.fit(X_train, y_train)"
   ]
  },
  {
   "cell_type": "code",
   "execution_count": 62,
   "id": "1f62a6ef-1cdf-4abd-a53f-2afc9affce3b",
   "metadata": {},
   "outputs": [],
   "source": [
    "predictions = rf_reg.predict(X_test)\n",
    "#predictions.shape"
   ]
  },
  {
   "cell_type": "code",
   "execution_count": 63,
   "id": "0d18f265-5969-4372-adf6-f7d89862f034",
   "metadata": {},
   "outputs": [
    {
     "name": "stdout",
     "output_type": "stream",
     "text": [
      "0.4549705753618077\n"
     ]
    }
   ],
   "source": [
    "rf_mse = mean_squared_error(y_test, predictions)\n",
    "rf_rmse = np.sqrt(rf_mse)\n",
    "print(rf_mse)"
   ]
  },
  {
   "cell_type": "markdown",
   "id": "992c6d06-f619-40eb-bd44-3a40b18a4bf0",
   "metadata": {},
   "source": [
    "#### feature selection"
   ]
  },
  {
   "cell_type": "code",
   "execution_count": 64,
   "id": "2da8b525-fd96-43a7-bc40-62c7d96f12e7",
   "metadata": {},
   "outputs": [
    {
     "data": {
      "text/plain": [
       "array([9.35996753e-01, 3.23386397e-02, 2.78298232e-04, 1.96039841e-04,\n",
       "       2.61139790e-02, 4.87218428e-03, 1.56549783e-08, 2.04090181e-04])"
      ]
     },
     "execution_count": 64,
     "metadata": {},
     "output_type": "execute_result"
    }
   ],
   "source": [
    "rf_reg.feature_importances_"
   ]
  },
  {
   "cell_type": "code",
   "execution_count": 66,
   "id": "b9680bc0-ab54-413c-9d40-55823cdce88c",
   "metadata": {},
   "outputs": [
    {
     "data": {
      "text/plain": [
       "Index(['confirmed', 'order_for_place', 'estimated_population_2019',\n",
       "       'estimated_population', 'confirmed_per_100k_inhabitants', 'death_rate',\n",
       "       'is_last', 'city'],\n",
       "      dtype='object')"
      ]
     },
     "execution_count": 66,
     "metadata": {},
     "output_type": "execute_result"
    }
   ],
   "source": [
    "pd.read_csv('data_piaui.csv').columns"
   ]
  },
  {
   "cell_type": "code",
   "execution_count": 67,
   "id": "3cb1b7b0-5f8b-47b1-b6ff-c347c26a1faf",
   "metadata": {},
   "outputs": [
    {
     "data": {
      "text/plain": [
       "(113319, 7)"
      ]
     },
     "execution_count": 67,
     "metadata": {},
     "output_type": "execute_result"
    }
   ],
   "source": [
    "# remove\n",
    "# 3 estimated_population\n",
    "# 6 is_last\n",
    "X_train_feat_selected = np.delete(X_train, 6, 1)\n",
    "X_train_feat_selected.shape"
   ]
  },
  {
   "cell_type": "code",
   "execution_count": 68,
   "id": "86886682-48f3-4143-afa5-61d0ce067e9e",
   "metadata": {},
   "outputs": [
    {
     "data": {
      "text/plain": [
       "(113319, 6)"
      ]
     },
     "execution_count": 68,
     "metadata": {},
     "output_type": "execute_result"
    }
   ],
   "source": [
    "X_train_feat_selected = np.delete(X_train_feat_selected, 3, 1)\n",
    "X_train_feat_selected.shape"
   ]
  },
  {
   "cell_type": "code",
   "execution_count": 69,
   "id": "ab084a24-df97-44b0-9cee-0a3ca662ab21",
   "metadata": {},
   "outputs": [
    {
     "data": {
      "text/plain": [
       "(28330, 6)"
      ]
     },
     "execution_count": 69,
     "metadata": {},
     "output_type": "execute_result"
    }
   ],
   "source": [
    "X_test_feat_selected = np.delete(X_test, 6, 1)\n",
    "X_test_feat_selected = np.delete(X_test_feat_selected, 3, 1)\n",
    "X_test_feat_selected.shape"
   ]
  },
  {
   "cell_type": "markdown",
   "id": "d983eae1-f095-4ce0-8b37-6c1d97e3e840",
   "metadata": {},
   "source": [
    "#### Random Forest Regressor with selected features"
   ]
  },
  {
   "cell_type": "code",
   "execution_count": 70,
   "id": "906bd946-92fe-4526-8f02-1eff0c2aa223",
   "metadata": {},
   "outputs": [
    {
     "data": {
      "text/plain": [
       "RandomForestRegressor()"
      ]
     },
     "execution_count": 70,
     "metadata": {},
     "output_type": "execute_result"
    }
   ],
   "source": [
    "rf_reg_s = RandomForestRegressor()\n",
    "rf_reg_s.fit(X_train_feat_selected, y_train)"
   ]
  },
  {
   "cell_type": "code",
   "execution_count": 71,
   "id": "5e7ea38f-47ea-40e4-8284-a35b2d81ed6b",
   "metadata": {},
   "outputs": [
    {
     "data": {
      "text/plain": [
       "(28330,)"
      ]
     },
     "execution_count": 71,
     "metadata": {},
     "output_type": "execute_result"
    }
   ],
   "source": [
    "rf_predictions = rf_reg_s.predict(X_test_feat_selected)\n",
    "predictions.shape"
   ]
  },
  {
   "cell_type": "code",
   "execution_count": 72,
   "id": "aec17fa5-f003-4553-a36e-0a52158521da",
   "metadata": {},
   "outputs": [
    {
     "name": "stdout",
     "output_type": "stream",
     "text": [
      "0.35972757853865167\n"
     ]
    }
   ],
   "source": [
    "rf_mse = mean_squared_error(y_test, rf_predictions)\n",
    "rf_rmse = np.sqrt(rf_mse)\n",
    "print(rf_mse)"
   ]
  },
  {
   "cell_type": "markdown",
   "id": "b08344aa-2e78-4495-a204-c721fc8ff118",
   "metadata": {},
   "source": [
    "### model hyperparameter adjustment"
   ]
  },
  {
   "cell_type": "code",
   "execution_count": 73,
   "id": "90dccd74-242d-4817-92bf-3fe3093ddc96",
   "metadata": {},
   "outputs": [
    {
     "data": {
      "text/plain": [
       "{'bootstrap': True,\n",
       " 'ccp_alpha': 0.0,\n",
       " 'criterion': 'mse',\n",
       " 'max_depth': None,\n",
       " 'max_features': 'auto',\n",
       " 'max_leaf_nodes': None,\n",
       " 'max_samples': None,\n",
       " 'min_impurity_decrease': 0.0,\n",
       " 'min_impurity_split': None,\n",
       " 'min_samples_leaf': 1,\n",
       " 'min_samples_split': 2,\n",
       " 'min_weight_fraction_leaf': 0.0,\n",
       " 'n_estimators': 100,\n",
       " 'n_jobs': None,\n",
       " 'oob_score': False,\n",
       " 'random_state': None,\n",
       " 'verbose': 0,\n",
       " 'warm_start': False}"
      ]
     },
     "execution_count": 73,
     "metadata": {},
     "output_type": "execute_result"
    }
   ],
   "source": [
    "rf_reg_s.get_params()"
   ]
  },
  {
   "cell_type": "code",
   "execution_count": 74,
   "id": "dd366244-4e14-49fc-a713-af70f023e4ac",
   "metadata": {},
   "outputs": [],
   "source": [
    "from sklearn.model_selection import GridSearchCV"
   ]
  },
  {
   "cell_type": "code",
   "execution_count": 75,
   "id": "8f94fc34-1515-4f79-a47a-9438a702a374",
   "metadata": {},
   "outputs": [],
   "source": [
    "# 'bootstrap': [False] -> uses the ENTIRE training set to train each of the binary trees\n",
    "# 'n_estimators': [80, 90, 100, 120] -> determines the number of trees I will use / default is 100\n",
    "# 'n_jobs': [-1] -> will use all processors on my machine / 0 -> use only 1 processor\n",
    "param_grid = [\n",
    "             {'n_estimators': [80, 90, 100, 120], 'max_features': [2, 4, 6], 'bootstrap': [False], 'n_jobs': [-1]}\n",
    "]"
   ]
  },
  {
   "cell_type": "code",
   "execution_count": 76,
   "id": "3ae41863-e721-44da-a833-f95f300e8ef9",
   "metadata": {},
   "outputs": [],
   "source": [
    "rf_reg_best = RandomForestRegressor()"
   ]
  },
  {
   "cell_type": "code",
   "execution_count": 77,
   "id": "c5cc6cc6-db5f-4748-ab22-27e3e0c5ad14",
   "metadata": {},
   "outputs": [],
   "source": [
    "# cv=5 -> cross validation - guarantees that all data will be used for training and testing\n",
    "grid_search = GridSearchCV(rf_reg_best, param_grid, cv = 5, scoring='neg_root_mean_squared_error')"
   ]
  },
  {
   "cell_type": "code",
   "execution_count": 78,
   "id": "69b7dc83-219f-49ae-b410-13383845a10d",
   "metadata": {},
   "outputs": [
    {
     "data": {
      "text/plain": [
       "GridSearchCV(cv=5, estimator=RandomForestRegressor(),\n",
       "             param_grid=[{'bootstrap': [False], 'max_features': [2, 4, 6],\n",
       "                          'n_estimators': [80, 90, 100, 120], 'n_jobs': [-1]}],\n",
       "             scoring='neg_root_mean_squared_error')"
      ]
     },
     "execution_count": 78,
     "metadata": {},
     "output_type": "execute_result"
    }
   ],
   "source": [
    "grid_search.fit(X_train_feat_selected, y_train)"
   ]
  },
  {
   "cell_type": "code",
   "execution_count": 79,
   "id": "6e11fffb-1b40-4519-b38e-943f7ffdc0a2",
   "metadata": {},
   "outputs": [
    {
     "data": {
      "text/plain": [
       "{'bootstrap': False, 'max_features': 4, 'n_estimators': 90, 'n_jobs': -1}"
      ]
     },
     "execution_count": 79,
     "metadata": {},
     "output_type": "execute_result"
    }
   ],
   "source": [
    "# best parameters\n",
    "grid_search.best_params_"
   ]
  },
  {
   "cell_type": "code",
   "execution_count": 80,
   "id": "e22a97d6-aff5-49ab-b3e9-d73a14e86b80",
   "metadata": {},
   "outputs": [
    {
     "data": {
      "text/plain": [
       "RandomForestRegressor(bootstrap=False, max_features=4, n_estimators=90,\n",
       "                      n_jobs=-1)"
      ]
     },
     "execution_count": 80,
     "metadata": {},
     "output_type": "execute_result"
    }
   ],
   "source": [
    "# using the best parameters in the model\n",
    "rf_reg_best = RandomForestRegressor(max_features=4, n_estimators=90, bootstrap=False, n_jobs=-1)\n",
    "rf_reg_best.fit(X_train_feat_selected, y_train)"
   ]
  },
  {
   "cell_type": "code",
   "execution_count": 81,
   "id": "963f9822-4c07-4c4c-8fe5-3749a325baf1",
   "metadata": {},
   "outputs": [],
   "source": [
    "rf_best_predictions = rf_reg_best.predict(X_test_feat_selected)\n",
    "#rf_best_predictions.shape"
   ]
  },
  {
   "cell_type": "code",
   "execution_count": 82,
   "id": "9ba29dd4-01d8-4e93-bae2-aa1d367bf06b",
   "metadata": {},
   "outputs": [
    {
     "name": "stdout",
     "output_type": "stream",
     "text": [
      "0.24428669168050268\n"
     ]
    }
   ],
   "source": [
    "rf_mse = mean_squared_error(y_test, rf_best_predictions)\n",
    "rf_rmse = np.sqrt(rf_mse)\n",
    "print(rf_mse)"
   ]
  },
  {
   "cell_type": "markdown",
   "id": "bb641be6-7c84-43e5-bb9d-2fd4f76bf88a",
   "metadata": {},
   "source": [
    "#### selection characteristics of the best regressor - Random Forest Regressor"
   ]
  },
  {
   "cell_type": "code",
   "execution_count": 83,
   "id": "e8e3afb3-1f45-47db-af0d-5c8c01808777",
   "metadata": {},
   "outputs": [
    {
     "data": {
      "text/plain": [
       "array([0.68302135, 0.04164834, 0.19562653, 0.05539346, 0.00409034,\n",
       "       0.02021999])"
      ]
     },
     "execution_count": 83,
     "metadata": {},
     "output_type": "execute_result"
    }
   ],
   "source": [
    "rf_reg_best.feature_importances_"
   ]
  },
  {
   "cell_type": "code",
   "execution_count": 84,
   "id": "6caf01e0-7450-45b6-82aa-4c50e3ffc518",
   "metadata": {},
   "outputs": [
    {
     "data": {
      "text/plain": [
       "0.004090337045561984"
      ]
     },
     "execution_count": 84,
     "metadata": {},
     "output_type": "execute_result"
    }
   ],
   "source": [
    "min(rf_reg_best.feature_importances_)"
   ]
  },
  {
   "cell_type": "code",
   "execution_count": 87,
   "id": "0b398d46-a202-4d8c-a171-2591adc6998e",
   "metadata": {},
   "outputs": [],
   "source": [
    "X_train_feat_selected = np.delete(X_train_feat_selected, 4, 1)\n",
    "X_test_feat_selected = np.delete(X_test_feat_selected, 4, 1)"
   ]
  },
  {
   "cell_type": "code",
   "execution_count": 88,
   "id": "bc445a5c-378c-4134-ab1b-61ea150aa0b8",
   "metadata": {},
   "outputs": [
    {
     "data": {
      "text/plain": [
       "RandomForestRegressor(bootstrap=False, max_features=4, n_estimators=90,\n",
       "                      n_jobs=-1)"
      ]
     },
     "execution_count": 88,
     "metadata": {},
     "output_type": "execute_result"
    }
   ],
   "source": [
    "rf_reg_best_s = RandomForestRegressor(max_features=4, n_estimators=90, bootstrap=False, n_jobs=-1)\n",
    "rf_reg_best_s.fit(X_train_feat_selected, y_train)"
   ]
  },
  {
   "cell_type": "code",
   "execution_count": 89,
   "id": "1e21fab2-3aab-4fa4-93b1-b78d635634e6",
   "metadata": {},
   "outputs": [],
   "source": [
    "rf_best_predictions_s = rf_reg_best_s.predict(X_test_feat_selected)"
   ]
  },
  {
   "cell_type": "code",
   "execution_count": 90,
   "id": "75895262-486c-43fc-a4d4-7e650550c847",
   "metadata": {},
   "outputs": [
    {
     "name": "stdout",
     "output_type": "stream",
     "text": [
      "0.1798341460651143\n"
     ]
    }
   ],
   "source": [
    "rf_mse = mean_squared_error(y_test, rf_best_predictions_s)\n",
    "rf_rmse = np.sqrt(rf_mse)\n",
    "print(rf_mse)"
   ]
  },
  {
   "cell_type": "markdown",
   "id": "d4e3ea18-4fd9-4a88-99c5-2c207fa81391",
   "metadata": {},
   "source": [
    "#### one more time"
   ]
  },
  {
   "cell_type": "code",
   "execution_count": 91,
   "id": "13f194fb-ac8e-4fc1-899a-15c1ada3a1fe",
   "metadata": {},
   "outputs": [
    {
     "data": {
      "text/plain": [
       "array([0.78599309, 0.04020972, 0.14278413, 0.02978447, 0.0012286 ])"
      ]
     },
     "execution_count": 91,
     "metadata": {},
     "output_type": "execute_result"
    }
   ],
   "source": [
    "rf_reg_best_s.feature_importances_"
   ]
  },
  {
   "cell_type": "code",
   "execution_count": 92,
   "id": "d02fba29-75a2-4425-a556-246f0213d288",
   "metadata": {},
   "outputs": [
    {
     "data": {
      "text/plain": [
       "0.0012285971851190441"
      ]
     },
     "execution_count": 92,
     "metadata": {},
     "output_type": "execute_result"
    }
   ],
   "source": [
    "min(rf_reg_best_s.feature_importances_)"
   ]
  },
  {
   "cell_type": "code",
   "execution_count": 94,
   "id": "d2d1883b-2c57-42b3-814b-eadb00b2b316",
   "metadata": {},
   "outputs": [],
   "source": [
    "X_train_feat_selected_last = np.delete(X_train_feat_selected, 4, 1)\n",
    "X_test_feat_selected_last = np.delete(X_test_feat_selected, 4, 1)"
   ]
  },
  {
   "cell_type": "code",
   "execution_count": 95,
   "id": "d417a168-d4a6-452c-abf2-2798e84b9649",
   "metadata": {},
   "outputs": [
    {
     "data": {
      "text/plain": [
       "RandomForestRegressor(bootstrap=False, max_features=4, n_estimators=90,\n",
       "                      n_jobs=-1)"
      ]
     },
     "execution_count": 95,
     "metadata": {},
     "output_type": "execute_result"
    }
   ],
   "source": [
    "rf_reg_best_last = RandomForestRegressor(max_features=4, n_estimators=90, bootstrap=False, n_jobs=-1)\n",
    "rf_reg_best_last.fit(X_train_feat_selected_last, y_train)"
   ]
  },
  {
   "cell_type": "code",
   "execution_count": 96,
   "id": "3da15362-48fb-4ab8-9301-5cdd6ddd860b",
   "metadata": {},
   "outputs": [],
   "source": [
    "rf_best_predictions_last = rf_reg_best_last.predict(X_test_feat_selected_last)"
   ]
  },
  {
   "cell_type": "code",
   "execution_count": 97,
   "id": "83ffaf00-503e-488f-b5b3-b0cc204927f8",
   "metadata": {},
   "outputs": [
    {
     "name": "stdout",
     "output_type": "stream",
     "text": [
      "0.37803856662875357\n"
     ]
    }
   ],
   "source": [
    "rf_mse = mean_squared_error(y_test, rf_best_predictions_last)\n",
    "rf_rmse = np.sqrt(rf_mse)\n",
    "print(rf_mse)"
   ]
  },
  {
   "cell_type": "markdown",
   "id": "7fceb40f-a1fc-4c7d-8af9-342ea2015f95",
   "metadata": {},
   "source": [
    "2. Investigate using Support Vector Regressor (sklearn.svm.SVR) automatically varying the hyperparameters (kernel and C) and presenting the RMSE"
   ]
  },
  {
   "cell_type": "code",
   "execution_count": 98,
   "id": "7d29fe7d-2a34-4bb6-a696-3c6e692ca955",
   "metadata": {},
   "outputs": [],
   "source": [
    "from sklearn.svm import SVR"
   ]
  },
  {
   "cell_type": "code",
   "execution_count": 99,
   "id": "da98769f-21a6-46d2-99db-584abcc13260",
   "metadata": {},
   "outputs": [
    {
     "data": {
      "text/plain": [
       "SVR()"
      ]
     },
     "execution_count": 99,
     "metadata": {},
     "output_type": "execute_result"
    }
   ],
   "source": [
    "# RBF padrão do kernel\n",
    "# 1.0 padrão do C\n",
    "svr = SVR()\n",
    "svr.fit(X_train, y_train)"
   ]
  },
  {
   "cell_type": "code",
   "execution_count": 100,
   "id": "c79b0944-ca17-4512-877a-306fbd173dea",
   "metadata": {},
   "outputs": [],
   "source": [
    "svr_predictions = svr.predict(X_test)\n",
    "#svr_predictions.shape"
   ]
  },
  {
   "cell_type": "code",
   "execution_count": 101,
   "id": "f3c5f226-7991-44b4-8c01-40e8b47e4020",
   "metadata": {},
   "outputs": [
    {
     "name": "stdout",
     "output_type": "stream",
     "text": [
      "11362.909742251406\n"
     ]
    }
   ],
   "source": [
    "rf_mse = mean_squared_error(y_test, svr_predictions)\n",
    "rf_rmse = np.sqrt(rf_mse)\n",
    "print(rf_mse)"
   ]
  },
  {
   "cell_type": "markdown",
   "id": "0c5561c5-e59a-4879-b7e0-3e71b614059a",
   "metadata": {},
   "source": [
    "#### kernel - linear / c = 0.1"
   ]
  },
  {
   "cell_type": "code",
   "execution_count": 102,
   "id": "5a18f508-944a-42a2-aa8c-70604150a2ff",
   "metadata": {},
   "outputs": [
    {
     "data": {
      "text/plain": [
       "SVR(C=0.1, kernel='linear')"
      ]
     },
     "execution_count": 102,
     "metadata": {},
     "output_type": "execute_result"
    }
   ],
   "source": [
    "# kernel - é um conjunto de funções matemáticas que recebe dados como entrada e os transforma na forma necessária\n",
    "svr_linear = SVR(kernel='linear', C=0.1)\n",
    "svr_linear.fit(X_train, y_train)"
   ]
  },
  {
   "cell_type": "code",
   "execution_count": 103,
   "id": "0a7f656b-eed3-4f1b-a35e-04cb809ef6c9",
   "metadata": {},
   "outputs": [],
   "source": [
    "svr_predictions_linear = svr_linear.predict(X_test)\n",
    "#svr_predictions.shape"
   ]
  },
  {
   "cell_type": "code",
   "execution_count": 104,
   "id": "116e0eeb-d08b-454a-8f8d-3db24333a84a",
   "metadata": {},
   "outputs": [
    {
     "name": "stdout",
     "output_type": "stream",
     "text": [
      "177.190771506698\n"
     ]
    }
   ],
   "source": [
    "rf_mse = mean_squared_error(y_test, svr_predictions_linear)\n",
    "rf_rmse = np.sqrt(rf_mse)\n",
    "print(rf_mse)"
   ]
  },
  {
   "cell_type": "markdown",
   "id": "7d555885-5a3d-4fed-93b3-0b8cc5b76645",
   "metadata": {},
   "source": [
    "#### kernel - poly / c = 0.5"
   ]
  },
  {
   "cell_type": "code",
   "execution_count": 106,
   "id": "a70b948e-a997-4745-a8fe-bdc20682bdb8",
   "metadata": {},
   "outputs": [
    {
     "data": {
      "text/plain": [
       "SVR(C=0.5, kernel='poly')"
      ]
     },
     "execution_count": 106,
     "metadata": {},
     "output_type": "execute_result"
    }
   ],
   "source": [
    "svr_poly = SVR(kernel='poly', C=0.5)\n",
    "svr_poly.fit(X_train, y_train)"
   ]
  },
  {
   "cell_type": "code",
   "execution_count": 107,
   "id": "496c3271-28ff-414b-a23b-e9f70c035cda",
   "metadata": {},
   "outputs": [],
   "source": [
    "svr_predictions_poly = svr_poly.predict(X_test)\n",
    "#svr_predictions.shape"
   ]
  },
  {
   "cell_type": "code",
   "execution_count": 108,
   "id": "3253de19-f17a-4bb1-b66c-6c632e87ca95",
   "metadata": {},
   "outputs": [
    {
     "name": "stdout",
     "output_type": "stream",
     "text": [
      "183.33249351363776\n"
     ]
    }
   ],
   "source": [
    "rf_mse = mean_squared_error(y_test, svr_predictions_poly)\n",
    "rf_rmse = np.sqrt(rf_mse)\n",
    "print(rf_mse)"
   ]
  }
 ],
 "metadata": {
  "kernelspec": {
   "display_name": "Python 3 (ipykernel)",
   "language": "python",
   "name": "python3"
  },
  "language_info": {
   "codemirror_mode": {
    "name": "ipython",
    "version": 3
   },
   "file_extension": ".py",
   "mimetype": "text/x-python",
   "name": "python",
   "nbconvert_exporter": "python",
   "pygments_lexer": "ipython3",
   "version": "3.9.7"
  }
 },
 "nbformat": 4,
 "nbformat_minor": 5
}
