{
 "cells": [
  {
   "cell_type": "markdown",
   "metadata": {},
   "source": [
    "# Supervised Learning: Classification with Random Forest"
   ]
  },
  {
   "cell_type": "markdown",
   "metadata": {},
   "source": [
    "## Imports"
   ]
  },
  {
   "cell_type": "code",
   "execution_count": 1,
   "metadata": {},
   "outputs": [],
   "source": [
    "import pandas as pd\n",
    "import numpy as np\n",
    "import matplotlib as mpl\n",
    "import matplotlib.pyplot as plt\n",
    "from sklearn.datasets import fetch_openml"
   ]
  },
  {
   "cell_type": "markdown",
   "metadata": {},
   "source": [
    "## Data acquisition"
   ]
  },
  {
   "cell_type": "code",
   "execution_count": 10,
   "metadata": {},
   "outputs": [],
   "source": [
    "mnist = fetch_openml('mnist_784', version=1, cache=True)"
   ]
  },
  {
   "cell_type": "code",
   "execution_count": 25,
   "metadata": {},
   "outputs": [],
   "source": [
    "#X, y = mnist[\"data\"], mnist[\"target\"]\n",
    "X,y = np.array(mnist['data']), np.array(mnist['target'])"
   ]
  },
  {
   "cell_type": "code",
   "execution_count": 13,
   "metadata": {
    "scrolled": true
   },
   "outputs": [
    {
     "data": {
      "text/plain": [
       "array([  0.,   0.,   0.,   0.,   0.,   0.,   0.,   0.,   0.,   0.,   0.,\n",
       "         0.,   0.,   0.,   0.,   0.,   0.,   0.,   0.,   0.,   0.,   0.,\n",
       "         0.,   0.,   0.,   0.,   0.,   0.,   0.,   0.,   0.,   0.,   0.,\n",
       "         0.,   0.,   0.,   0.,   0.,   0.,   0.,   0.,   0.,   0.,   0.,\n",
       "         0.,   0.,   0.,   0.,   0.,   0.,   0.,   0.,   0.,   0.,   0.,\n",
       "         0.,   0.,   0.,   0.,   0.,   0.,   0.,   0.,   0.,   0.,   0.,\n",
       "         0.,   0.,   0.,   0.,   0.,   0.,   0.,   0.,   0.,   0.,   0.,\n",
       "         0.,   0.,   0.,   0.,   0.,   0.,   0.,   0.,   0.,   0.,   0.,\n",
       "         0.,   0.,   0.,   0.,   0.,   0.,   0.,   0.,   0.,   0.,   0.,\n",
       "         0.,   0.,   0.,   0.,   0.,   0.,   0.,   0.,   0.,   0.,   0.,\n",
       "         0.,   0.,   0.,   0.,   0.,   0.,   0.,   0.,   0.,   0.,   0.,\n",
       "         0.,   0.,   0.,   0.,   0.,   0.,   0.,   0.,   0.,   0.,   0.,\n",
       "         0.,   0.,   0.,   0.,   0.,   0.,   0.,   0.,   0.,   0.,   0.,\n",
       "         0.,   0.,   0.,   0.,   0.,   0.,   0.,   0.,  94., 163.,  99.,\n",
       "       228., 255., 202.,  49.,  58.,  47.,   0.,   0.,   0.,   0.,   0.,\n",
       "         0.,   0.,   0.,   0.,   0.,   0.,   0.,   0.,   0.,   0.,   0.,\n",
       "         0.,   0., 171., 245., 253., 253., 253., 254., 221., 236., 174.,\n",
       "       173.,  72., 136.,   0.,   0.,   0.,   0.,   0.,   0.,   0.,   0.,\n",
       "         0.,   0.,   0.,   0.,   0.,   0.,   0.,   0., 254., 253., 253.,\n",
       "       253., 253., 208., 128., 197., 250., 243., 142., 123.,   0.,   0.,\n",
       "         0.,   0.,   0.,   0.,   0.,   0.,   0.,   0.,   0.,   0.,   0.,\n",
       "         0.,   0.,   0., 241., 253., 253., 199.,  80.,  35.,  23.,  47.,\n",
       "        87.,  87.,  97., 110.,   0.,   0.,   0.,   0.,   0.,   0.,   0.,\n",
       "         0.,   0.,   0.,   0.,   0.,   0.,   0.,   0.,   0., 137., 253.,\n",
       "       253.,  54.,   0.,   0.,   0.,   0.,   0.,   0.,   0.,   0.,   0.,\n",
       "         0.,   0.,   0.,   0.,   0.,   0.,   0.,   0.,   0.,   0.,   0.,\n",
       "         0.,   0.,   0.,  92., 255., 254., 254., 119.,   0.,   0.,   0.,\n",
       "         0.,   0.,   0.,   0.,   0.,   0.,   0.,   0.,   0.,   0.,   0.,\n",
       "         0.,   0.,   0.,   0.,   0.,   0.,   0.,   0.,   4., 158., 254.,\n",
       "       253., 199.,   4.,   0.,   0.,   0.,   0.,   0.,   0.,   0.,   0.,\n",
       "         0.,   0.,   0.,   0.,   0.,   0.,   0.,   0.,   0.,   0.,   0.,\n",
       "         0.,   0.,   0.,  77., 253., 254., 180.,  31.,   0.,   0.,   0.,\n",
       "         0.,   0.,   0.,   0.,   0.,   0.,   0.,   0.,   0.,   0.,   0.,\n",
       "         0.,   0.,   0.,   0.,   0.,   0.,   0.,   0.,   3., 203., 253.,\n",
       "       254., 108.,   0.,   0.,   0.,   0.,   0.,   0.,   0.,   0.,   0.,\n",
       "         0.,   0.,   0.,   0.,   0.,   0.,   0.,   0.,   0.,   0.,   0.,\n",
       "         0.,   0.,   0.,  37., 253., 253., 254.,  43.,   0.,   0.,   0.,\n",
       "         0.,   0.,   0.,   0.,   0.,   0.,   0.,   0.,   0.,   0.,   0.,\n",
       "         0.,   0.,   0.,   0.,   0.,   0.,   0.,   0.,   0.,  14., 219.,\n",
       "       254., 255.,  18.,   0.,   0.,   0.,   0.,   0.,   0.,   0.,   0.,\n",
       "         0.,   0.,   0.,   0.,   0.,   0.,   0.,   0.,   0.,   0.,   0.,\n",
       "         0.,   0.,   0.,   0.,   0., 199., 253., 228.,  62.,  55.,  55.,\n",
       "        55.,  88.,  35.,  55.,  12.,   0.,   0.,   0.,   0.,   0.,   0.,\n",
       "         0.,   0.,   0.,   0.,   0.,   0.,   0.,   0.,   0.,   0.,   0.,\n",
       "       109., 253., 254., 253., 253., 253., 253., 254., 240., 253., 186.,\n",
       "        95.,   0.,   0.,   0.,   0.,   0.,   0.,   0.,   0.,   0.,   0.,\n",
       "         0.,   0.,   0.,   0.,   0.,   0.,  11., 215., 254., 253., 253.,\n",
       "       253., 253., 254., 253., 253., 253., 253.,  84.,   2.,   0.,   0.,\n",
       "         0.,   0.,   0.,   0.,   0.,   0.,   0.,   0.,   0.,   0.,   0.,\n",
       "         0.,   0.,  26., 189., 253., 253., 253., 253., 228., 162., 207.,\n",
       "       253., 253., 254.,  18.,   0.,   0.,   0.,   0.,   0.,   0.,   0.,\n",
       "         0.,   0.,   0.,   0.,   0.,   0.,   0.,   0.,   0.,   0.,   0.,\n",
       "        14.,  85.,   0.,   0.,   0.,   0.,  40., 207., 255., 109.,   0.,\n",
       "         0.,   0.,   0.,   0.,   0.,   0.,   0.,   0.,   0.,   0.,   0.,\n",
       "         0.,   0.,   0.,   0.,   0.,   0.,   0.,   0.,   0.,   0.,   0.,\n",
       "         0.,  89., 248., 254.,  56.,   0.,   0.,   0.,   0.,   0.,   0.,\n",
       "         0.,   0.,   0.,   0.,   0.,   0.,   0.,   0.,   0.,   0.,   0.,\n",
       "         0.,   0.,   0.,   0.,   0.,  21., 159., 245., 253., 165.,   3.,\n",
       "         0.,   0.,   0.,   0.,   0.,   0.,   0.,   0.,   0.,   0.,   0.,\n",
       "         0.,   0.,   0.,   0.,   0.,   0.,   0.,   0.,   0.,  79., 200.,\n",
       "       230., 253., 245., 137.,   0.,   0.,   0.,   0.,   0.,   0.,   0.,\n",
       "         0.,   0.,   0.,   0.,   0.,   0.,   0.,   0.,   0.,   0.,   0.,\n",
       "         0.,   0.,   0.,   0., 117., 163., 194., 194.,  61.,   0.,   0.,\n",
       "         0.,   0.,   0.,   0.,   0.,   0.,   0.,   0.,   0.,   0.,   0.,\n",
       "         0.,   0.,   0.,   0.,   0.,   0.,   0.,   0.,   0.,   0.,   0.,\n",
       "         0.,   0.,   0.,   0.,   0.,   0.,   0.,   0.,   0.,   0.,   0.,\n",
       "         0.,   0.,   0.,   0.,   0.,   0.,   0.,   0.,   0.,   0.,   0.,\n",
       "         0.,   0.,   0.,   0.,   0.,   0.,   0.,   0.,   0.,   0.,   0.,\n",
       "         0.,   0.,   0.,   0.,   0.,   0.,   0.,   0.,   0.,   0.,   0.,\n",
       "         0.,   0.,   0.,   0.,   0.,   0.,   0.,   0.,   0.,   0.,   0.,\n",
       "         0.,   0.,   0.,   0.,   0.,   0.,   0.,   0.,   0.,   0.,   0.,\n",
       "         0.,   0.,   0.])"
      ]
     },
     "execution_count": 13,
     "metadata": {},
     "output_type": "execute_result"
    }
   ],
   "source": [
    "X[2000]"
   ]
  },
  {
   "cell_type": "code",
   "execution_count": 14,
   "metadata": {},
   "outputs": [],
   "source": [
    "# transforms string labels to int\n",
    "mnist.target = mnist.target.astype(np.int8)"
   ]
  },
  {
   "cell_type": "code",
   "execution_count": 15,
   "metadata": {},
   "outputs": [
    {
     "data": {
      "text/plain": [
       "sklearn.utils.Bunch"
      ]
     },
     "execution_count": 15,
     "metadata": {},
     "output_type": "execute_result"
    }
   ],
   "source": [
    "type(mnist)"
   ]
  },
  {
   "cell_type": "code",
   "execution_count": 16,
   "metadata": {},
   "outputs": [
    {
     "data": {
      "text/plain": [
       "{'id': '554',\n",
       " 'name': 'mnist_784',\n",
       " 'version': '1',\n",
       " 'description_version': '1',\n",
       " 'format': 'ARFF',\n",
       " 'creator': ['Yann LeCun', 'Corinna Cortes', 'Christopher J.C. Burges'],\n",
       " 'upload_date': '2014-09-29T03:28:38',\n",
       " 'language': 'English',\n",
       " 'licence': 'Public',\n",
       " 'url': 'https://www.openml.org/data/v1/download/52667/mnist_784.arff',\n",
       " 'file_id': '52667',\n",
       " 'default_target_attribute': 'class',\n",
       " 'tag': ['AzurePilot',\n",
       "  'OpenML-CC18',\n",
       "  'OpenML100',\n",
       "  'study_1',\n",
       "  'study_123',\n",
       "  'study_41',\n",
       "  'study_99',\n",
       "  'vision'],\n",
       " 'visibility': 'public',\n",
       " 'minio_url': 'http://openml1.win.tue.nl/dataset554/dataset_554.pq',\n",
       " 'status': 'active',\n",
       " 'processing_date': '2020-11-20 20:12:09',\n",
       " 'md5_checksum': '0298d579eb1b86163de7723944c7e495'}"
      ]
     },
     "execution_count": 16,
     "metadata": {},
     "output_type": "execute_result"
    }
   ],
   "source": [
    "mnist.details"
   ]
  },
  {
   "cell_type": "code",
   "execution_count": 17,
   "metadata": {},
   "outputs": [
    {
     "data": {
      "text/plain": [
       "\"**Author**: Yann LeCun, Corinna Cortes, Christopher J.C. Burges  \\n**Source**: [MNIST Website](http://yann.lecun.com/exdb/mnist/) - Date unknown  \\n**Please cite**:  \\n\\nThe MNIST database of handwritten digits with 784 features, raw data available at: http://yann.lecun.com/exdb/mnist/. It can be split in a training set of the first 60,000 examples, and a test set of 10,000 examples  \\n\\nIt is a subset of a larger set available from NIST. The digits have been size-normalized and centered in a fixed-size image. It is a good database for people who want to try learning techniques and pattern recognition methods on real-world data while spending minimal efforts on preprocessing and formatting. The original black and white (bilevel) images from NIST were size normalized to fit in a 20x20 pixel box while preserving their aspect ratio. The resulting images contain grey levels as a result of the anti-aliasing technique used by the normalization algorithm. the images were centered in a 28x28 image by computing the center of mass of the pixels, and translating the image so as to position this point at the center of the 28x28 field.  \\n\\nWith some classification methods (particularly template-based methods, such as SVM and K-nearest neighbors), the error rate improves when the digits are centered by bounding box rather than center of mass. If you do this kind of pre-processing, you should report it in your publications. The MNIST database was constructed from NIST's NIST originally designated SD-3 as their training set and SD-1 as their test set. However, SD-3 is much cleaner and easier to recognize than SD-1. The reason for this can be found on the fact that SD-3 was collected among Census Bureau employees, while SD-1 was collected among high-school students. Drawing sensible conclusions from learning experiments requires that the result be independent of the choice of training set and test among the complete set of samples. Therefore it was necessary to build a new database by mixing NIST's datasets.  \\n\\nThe MNIST training set is composed of 30,000 patterns from SD-3 and 30,000 patterns from SD-1. Our test set was composed of 5,000 patterns from SD-3 and 5,000 patterns from SD-1. The 60,000 pattern training set contained examples from approximately 250 writers. We made sure that the sets of writers of the training set and test set were disjoint. SD-1 contains 58,527 digit images written by 500 different writers. In contrast to SD-3, where blocks of data from each writer appeared in sequence, the data in SD-1 is scrambled. Writer identities for SD-1 is available and we used this information to unscramble the writers. We then split SD-1 in two: characters written by the first 250 writers went into our new training set. The remaining 250 writers were placed in our test set. Thus we had two sets with nearly 30,000 examples each. The new training set was completed with enough examples from SD-3, starting at pattern # 0, to make a full set of 60,000 training patterns. Similarly, the new test set was completed with SD-3 examples starting at pattern # 35,000 to make a full set with 60,000 test patterns. Only a subset of 10,000 test images (5,000 from SD-1 and 5,000 from SD-3) is available on this site. The full 60,000 sample training set is available.\\n\\nDownloaded from openml.org.\""
      ]
     },
     "execution_count": 17,
     "metadata": {},
     "output_type": "execute_result"
    }
   ],
   "source": [
    "mnist.DESCR"
   ]
  },
  {
   "cell_type": "code",
   "execution_count": 18,
   "metadata": {},
   "outputs": [
    {
     "data": {
      "text/plain": [
       "(70000, 784)"
      ]
     },
     "execution_count": 18,
     "metadata": {},
     "output_type": "execute_result"
    }
   ],
   "source": [
    "mnist.data.shape"
   ]
  },
  {
   "cell_type": "code",
   "execution_count": 19,
   "metadata": {},
   "outputs": [
    {
     "data": {
      "text/plain": [
       "(70000,)"
      ]
     },
     "execution_count": 19,
     "metadata": {},
     "output_type": "execute_result"
    }
   ],
   "source": [
    "mnist.target.shape"
   ]
  },
  {
   "cell_type": "code",
   "execution_count": 26,
   "metadata": {
    "scrolled": true
   },
   "outputs": [
    {
     "data": {
      "text/plain": [
       "array([  0.,   0.,   0.,   0.,   0.,   0.,   0.,   0.,   0.,   0.,   0.,\n",
       "         0.,   0.,   0.,   0.,   0.,   0.,   0.,   0.,   0.,   0.,   0.,\n",
       "         0.,   0.,   0.,   0.,   0.,   0.,   0.,   0.,   0.,   0.,   0.,\n",
       "         0.,   0.,   0.,   0.,   0.,   0.,   0.,   0.,   0.,   0.,   0.,\n",
       "         0.,   0.,   0.,   0.,   0.,   0.,   0.,   0.,   0.,   0.,   0.,\n",
       "         0.,   0.,   0.,   0.,   0.,   0.,   0.,   0.,   0.,   0.,   0.,\n",
       "         0.,   0.,   0.,   0.,   0.,   0.,   0.,   0.,   0.,   0.,   0.,\n",
       "         0.,   0.,   0.,   0.,   0.,   0.,   0.,   0.,   0.,   0.,   0.,\n",
       "         0.,   0.,   0.,   0.,   0.,   0.,   0.,   0.,   0.,   4.,  63.,\n",
       "       116., 159., 223., 204.,  84.,   0.,   0.,   0.,   0.,   0.,   0.,\n",
       "         0.,   0.,   0.,   0.,   0.,   0.,   0.,   0.,   0.,   0.,   0.,\n",
       "         0.,   0.,  10.,  84., 169., 254., 254., 254., 254., 254., 254.,\n",
       "       163.,   0.,   0.,   0.,   0.,   0.,   0.,   0.,   0.,   0.,   0.,\n",
       "         0.,   0.,   0.,   0.,   0.,   0.,   0.,   7., 180., 254., 254.,\n",
       "       254., 254., 254., 254., 254., 254., 237.,  56.,   0.,   0.,   0.,\n",
       "         0.,   0.,   0.,   0.,   0.,   0.,   0.,   0.,   0.,   0.,   0.,\n",
       "         0.,   0.,  78., 254., 254., 254., 215., 108.,  24.,   4., 137.,\n",
       "       254., 254., 125.,   0.,   0.,   0.,   0.,   0.,   0.,   0.,   0.,\n",
       "         0.,   0.,   0.,   0.,   0.,   0.,   0.,   0.,  32., 238., 232.,\n",
       "       183.,  12.,   0.,   0.,   0., 135., 254., 254., 125.,   0.,   0.,\n",
       "         0.,   0.,   0.,   0.,   0.,   0.,   0.,   0.,   0.,   0.,   0.,\n",
       "         0.,   0.,   0.,   0.,  24.,   4.,   0.,   0.,   0.,   0.,   0.,\n",
       "       135., 254., 254., 125.,   0.,   0.,   0.,   0.,   0.,   0.,   0.,\n",
       "         0.,   0.,   0.,   0.,   0.,   0.,   0.,   0.,   0.,   0.,   0.,\n",
       "         0.,   0.,   0.,   0.,   0.,   0., 135., 254., 254., 181.,   0.,\n",
       "         0.,   0.,   0.,   0.,   0.,   0.,   0.,   0.,   0.,   0.,   0.,\n",
       "         0.,   0.,   0.,   0.,   0.,   0.,   0.,   0.,   0.,   0.,   0.,\n",
       "         0.,  99., 254., 254., 213.,   0.,   0.,   0.,   0.,   0.,   0.,\n",
       "         0.,   0.,   0.,   0.,   0.,   0.,   0.,   0.,   0.,   0.,   0.,\n",
       "         0.,   0.,   0.,   0.,   0.,   0.,   0., 135., 254., 254., 125.,\n",
       "         0.,   0.,   0.,   0.,   0.,   0.,   0.,   0.,   0.,   0.,   0.,\n",
       "         0.,   0.,   0.,   0.,   0.,   0.,   0.,   0.,   0.,   0.,   0.,\n",
       "         0.,   0., 153., 254., 254., 107.,   0.,   0.,   0.,   0.,   0.,\n",
       "         0.,   0.,   0.,   0.,   0.,   0.,   0.,   0.,   0.,   0.,   0.,\n",
       "         0.,   0.,   0.,   0.,   0.,   0.,   0.,  38., 241., 254., 225.,\n",
       "        16.,   0.,   0.,   0.,   0.,   0.,   0.,   0.,   0.,   0.,   0.,\n",
       "         0.,   0.,   0.,   0.,   0.,   0.,   0.,   0.,   0.,   0.,   0.,\n",
       "         0.,   3., 195., 254., 254., 158.,   0.,   0.,   0.,   0.,   0.,\n",
       "         0.,   0.,   0.,   0.,   0.,   0.,   0.,   0.,  17.,  33.,   0.,\n",
       "         0.,   0.,   0.,   0.,   0.,   0.,   8., 197., 254., 254., 197.,\n",
       "         7.,   0.,   0.,   0.,   0.,   0.,   0.,   0.,   0.,   0.,   0.,\n",
       "         0.,  67., 202., 222., 242., 202., 202., 202., 135., 107.,  65.,\n",
       "        39., 204., 254., 254., 235.,  54.,   0.,   0.,   0.,   0.,   0.,\n",
       "         0.,   0.,   0.,   0.,   0.,   0.,  42., 243., 254., 254., 254.,\n",
       "       254., 254., 254., 254., 254., 254., 254., 254., 254., 234.,  50.,\n",
       "         0.,   0.,   0.,   0.,   0.,   0.,   0.,   0.,   0.,   0.,   0.,\n",
       "         0.,  63., 254., 254., 254., 254., 254., 254., 254., 254., 254.,\n",
       "       254., 254., 254., 254., 184.,  27.,   0.,   0.,   0.,   0.,   0.,\n",
       "         0.,   0.,   0.,   0.,   0.,   0.,   0.,  63., 254., 254., 254.,\n",
       "       254., 254., 254., 254., 254., 254., 254., 251., 254., 254., 254.,\n",
       "       173.,  27.,   4.,   0.,   0.,   0.,   0.,   0.,   0.,   0.,   0.,\n",
       "         0.,   0.,  23., 208., 254., 254., 254., 254., 229., 224., 187.,\n",
       "       187., 181.,  29., 101., 241., 254., 254., 254., 230., 106.,   0.,\n",
       "         0.,   0.,   0.,   0.,   0.,   0.,   0.,   0.,   0.,  14.,  29.,\n",
       "        29.,  29.,  29.,  18.,  16.,   0.,   0.,   0.,   0.,   0.,  26.,\n",
       "       211., 255., 254., 254., 221.,   0.,   0.,   0.,   0.,   0.,   0.,\n",
       "         0.,   0.,   0.,   0.,   0.,   0.,   0.,   0.,   0.,   0.,   0.,\n",
       "         0.,   0.,   0.,   0.,   0.,   0.,  41., 164., 254., 254., 148.,\n",
       "         0.,   0.,   0.,   0.,   0.,   0.,   0.,   0.,   0.,   0.,   0.,\n",
       "         0.,   0.,   0.,   0.,   0.,   0.,   0.,   0.,   0.,   0.,   0.,\n",
       "         0.,   0.,   0.,   0.,   0.,   0.,   0.,   0.,   0.,   0.,   0.,\n",
       "         0.,   0.,   0.,   0.,   0.,   0.,   0.,   0.,   0.,   0.,   0.,\n",
       "         0.,   0.,   0.,   0.,   0.,   0.,   0.,   0.,   0.,   0.,   0.,\n",
       "         0.,   0.,   0.,   0.,   0.,   0.,   0.,   0.,   0.,   0.,   0.,\n",
       "         0.,   0.,   0.,   0.,   0.,   0.,   0.,   0.,   0.,   0.,   0.,\n",
       "         0.,   0.,   0.,   0.,   0.,   0.,   0.,   0.,   0.,   0.,   0.,\n",
       "         0.,   0.,   0.,   0.,   0.,   0.,   0.,   0.,   0.,   0.,   0.,\n",
       "         0.,   0.,   0.,   0.,   0.,   0.,   0.,   0.,   0.,   0.,   0.,\n",
       "         0.,   0.,   0.,   0.,   0.,   0.,   0.,   0.,   0.,   0.,   0.,\n",
       "         0.,   0.,   0.,   0.,   0.,   0.,   0.,   0.,   0.,   0.,   0.,\n",
       "         0.,   0.,   0.,   0.,   0.,   0.,   0.,   0.,   0.,   0.,   0.,\n",
       "         0.,   0.,   0.])"
      ]
     },
     "execution_count": 26,
     "metadata": {},
     "output_type": "execute_result"
    }
   ],
   "source": [
    "X[10999]"
   ]
  },
  {
   "cell_type": "code",
   "execution_count": 28,
   "metadata": {},
   "outputs": [],
   "source": [
    "digito = X[10999].reshape(28,28)"
   ]
  },
  {
   "cell_type": "markdown",
   "metadata": {},
   "source": [
    "## Data visualization"
   ]
  },
  {
   "cell_type": "code",
   "execution_count": 29,
   "metadata": {},
   "outputs": [
    {
     "data": {
      "image/png": "[encoded data removed]",
      "text/plain": [
       "<Figure size 432x288 with 1 Axes>"
      ]
     },
     "metadata": {
      "needs_background": "light"
     },
     "output_type": "display_data"
    }
   ],
   "source": [
    "plt.imshow(digito, cmap = mpl.cm.binary,\n",
    "           interpolation=\"nearest\")\n",
    "plt.axis(\"off\")\n",
    "plt.show()"
   ]
  },
  {
   "cell_type": "code",
   "execution_count": 30,
   "metadata": {},
   "outputs": [
    {
     "data": {
      "text/plain": [
       "2"
      ]
     },
     "execution_count": 30,
     "metadata": {},
     "output_type": "execute_result"
    }
   ],
   "source": [
    "y[10999]"
   ]
  },
  {
   "cell_type": "code",
   "execution_count": 31,
   "metadata": {},
   "outputs": [
    {
     "data": {
      "text/plain": [
       "array([5, 0, 4, ..., 4, 5, 6], dtype=int8)"
      ]
     },
     "execution_count": 31,
     "metadata": {},
     "output_type": "execute_result"
    }
   ],
   "source": [
    "y"
   ]
  },
  {
   "cell_type": "markdown",
   "metadata": {},
   "source": [
    "## Preprocessing"
   ]
  },
  {
   "cell_type": "code",
   "execution_count": 32,
   "metadata": {},
   "outputs": [],
   "source": [
    "X_train, y_train, X_test, y_test = X[:60000], y[:60000], X[60000:], y[60000:]"
   ]
  },
  {
   "cell_type": "code",
   "execution_count": 33,
   "metadata": {},
   "outputs": [],
   "source": [
    "index = np.random.permutation(60000)\n",
    "X_train, y_train = X_train[index], y_train[index]"
   ]
  },
  {
   "cell_type": "code",
   "execution_count": 34,
   "metadata": {},
   "outputs": [],
   "source": [
    "index = np.random.permutation(10000)\n",
    "X_test, y_test = X_test[index], y_test[index]"
   ]
  },
  {
   "cell_type": "markdown",
   "metadata": {},
   "source": [
    "## Model selection and training"
   ]
  },
  {
   "cell_type": "code",
   "execution_count": 35,
   "metadata": {},
   "outputs": [],
   "source": [
    "from sklearn.ensemble import RandomForestClassifier"
   ]
  },
  {
   "cell_type": "code",
   "execution_count": 36,
   "metadata": {},
   "outputs": [
    {
     "data": {
      "text/plain": [
       "RandomForestClassifier()"
      ]
     },
     "execution_count": 36,
     "metadata": {},
     "output_type": "execute_result"
    }
   ],
   "source": [
    "rf_clf = RandomForestClassifier()\n",
    "rf_clf.fit(X_train,y_train)"
   ]
  },
  {
   "cell_type": "code",
   "execution_count": 37,
   "metadata": {},
   "outputs": [],
   "source": [
    "predictions = rf_clf.predict(X_test)"
   ]
  },
  {
   "cell_type": "code",
   "execution_count": 38,
   "metadata": {},
   "outputs": [],
   "source": [
    "acc = sum(predictions == y_test)/len(predictions)"
   ]
  },
  {
   "cell_type": "code",
   "execution_count": 39,
   "metadata": {},
   "outputs": [
    {
     "name": "stdout",
     "output_type": "stream",
     "text": [
      "0.9701\n"
     ]
    }
   ],
   "source": [
    "print(acc)"
   ]
  },
  {
   "cell_type": "markdown",
   "metadata": {},
   "source": [
    "## Adjusting the Model"
   ]
  },
  {
   "cell_type": "code",
   "execution_count": 40,
   "metadata": {},
   "outputs": [],
   "source": [
    "from sklearn.model_selection import GridSearchCV"
   ]
  },
  {
   "cell_type": "code",
   "execution_count": 41,
   "metadata": {},
   "outputs": [],
   "source": [
    "rf_clf = RandomForestClassifier()"
   ]
  },
  {
   "cell_type": "code",
   "execution_count": 42,
   "metadata": {},
   "outputs": [
    {
     "data": {
      "text/plain": [
       "('criterion',\n",
       " 'max_depth',\n",
       " 'min_samples_split',\n",
       " 'min_samples_leaf',\n",
       " 'min_weight_fraction_leaf',\n",
       " 'max_features',\n",
       " 'max_leaf_nodes',\n",
       " 'min_impurity_decrease',\n",
       " 'random_state',\n",
       " 'ccp_alpha')"
      ]
     },
     "execution_count": 42,
     "metadata": {},
     "output_type": "execute_result"
    }
   ],
   "source": [
    "rf_clf.estimator_params"
   ]
  },
  {
   "cell_type": "code",
   "execution_count": 43,
   "metadata": {},
   "outputs": [],
   "source": [
    "param_grid = { \n",
    "    'n_estimators': [200, 250, 300],\n",
    "    'max_depth' : [6,8,10],\n",
    "    'bootstrap': [False],\n",
    "    'n_jobs': [-1]\n",
    "}"
   ]
  },
  {
   "cell_type": "code",
   "execution_count": 44,
   "metadata": {},
   "outputs": [],
   "source": [
    "grid_search = GridSearchCV(rf_clf, param_grid, cv=5, scoring='accuracy')"
   ]
  },
  {
   "cell_type": "code",
   "execution_count": 45,
   "metadata": {},
   "outputs": [
    {
     "data": {
      "text/plain": [
       "GridSearchCV(cv=5, estimator=RandomForestClassifier(),\n",
       "             param_grid={'bootstrap': [False], 'max_depth': [6, 8, 10],\n",
       "                         'n_estimators': [200, 250, 300], 'n_jobs': [-1]},\n",
       "             scoring='accuracy')"
      ]
     },
     "execution_count": 45,
     "metadata": {},
     "output_type": "execute_result"
    }
   ],
   "source": [
    "grid_search.fit(X_train, y_train)"
   ]
  },
  {
   "cell_type": "code",
   "execution_count": 46,
   "metadata": {},
   "outputs": [
    {
     "data": {
      "text/plain": [
       "{'bootstrap': False, 'max_depth': 10, 'n_estimators': 300, 'n_jobs': -1}"
      ]
     },
     "execution_count": 46,
     "metadata": {},
     "output_type": "execute_result"
    }
   ],
   "source": [
    "grid_search.best_params_"
   ]
  },
  {
   "cell_type": "code",
   "execution_count": 47,
   "metadata": {},
   "outputs": [
    {
     "data": {
      "text/plain": [
       "RandomForestClassifier(max_depth=10, n_estimators=300, n_jobs=-1)"
      ]
     },
     "execution_count": 47,
     "metadata": {},
     "output_type": "execute_result"
    }
   ],
   "source": [
    "rf_clf_best = RandomForestClassifier(max_depth= 10, n_estimators= 300,n_jobs=-1)\n",
    "rf_clf_best.fit(X_train,y_train)"
   ]
  },
  {
   "cell_type": "code",
   "execution_count": 48,
   "metadata": {},
   "outputs": [],
   "source": [
    "predictions = rf_clf_best.predict(X_test)"
   ]
  },
  {
   "cell_type": "code",
   "execution_count": 49,
   "metadata": {},
   "outputs": [
    {
     "name": "stdout",
     "output_type": "stream",
     "text": [
      "0.949\n"
     ]
    }
   ],
   "source": [
    "acc = sum(predictions == y_test)/len(predictions)\n",
    "print(acc)"
   ]
  },
  {
   "cell_type": "markdown",
   "metadata": {},
   "source": [
    "## Evaluating the Model"
   ]
  },
  {
   "cell_type": "code",
   "execution_count": 50,
   "metadata": {},
   "outputs": [],
   "source": [
    "from sklearn.metrics import accuracy_score\n",
    "from sklearn.metrics import confusion_matrix\n",
    "from sklearn.metrics import precision_score, recall_score\n",
    "from sklearn.metrics import f1_score"
   ]
  },
  {
   "cell_type": "code",
   "execution_count": 51,
   "metadata": {},
   "outputs": [
    {
     "data": {
      "text/plain": [
       "0.949"
      ]
     },
     "execution_count": 51,
     "metadata": {},
     "output_type": "execute_result"
    }
   ],
   "source": [
    "accuracy_score(predictions,y_test)"
   ]
  },
  {
   "cell_type": "code",
   "execution_count": 53,
   "metadata": {},
   "outputs": [
    {
     "data": {
      "text/plain": [
       "array([[ 968,    1,    0,    0,    0,    2,    4,    1,    3,    1],\n",
       "       [   0, 1120,    3,    3,    0,    1,    4,    1,    3,    0],\n",
       "       [   6,    0,  975,    8,    9,    0,    7,   15,    8,    4],\n",
       "       [   1,    0,   15,  953,    1,   13,    0,   11,   11,    5],\n",
       "       [   1,    1,    2,    0,  913,    1,    8,    2,    7,   47],\n",
       "       [   6,    5,    0,   16,    4,  833,   11,    3,    6,    8],\n",
       "       [   7,    4,    1,    0,    6,    6,  929,    0,    5,    0],\n",
       "       [   1,    8,   26,    3,    5,    0,    0,  953,    5,   27],\n",
       "       [   5,    2,    7,    8,    8,    5,   10,    4,  903,   22],\n",
       "       [   7,    6,    3,   13,   16,    5,    1,    5,   10,  943]],\n",
       "      dtype=int64)"
      ]
     },
     "execution_count": 53,
     "metadata": {},
     "output_type": "execute_result"
    }
   ],
   "source": [
    "confusion_matrix(y_test,predictions)"
   ]
  },
  {
   "cell_type": "code",
   "execution_count": 54,
   "metadata": {},
   "outputs": [
    {
     "data": {
      "text/plain": [
       "0.949245330030271"
      ]
     },
     "execution_count": 54,
     "metadata": {},
     "output_type": "execute_result"
    }
   ],
   "source": [
    "precision_score(y_test, predictions, average='weighted')"
   ]
  },
  {
   "cell_type": "code",
   "execution_count": 55,
   "metadata": {},
   "outputs": [
    {
     "data": {
      "text/plain": [
       "0.949"
      ]
     },
     "execution_count": 55,
     "metadata": {},
     "output_type": "execute_result"
    }
   ],
   "source": [
    "recall_score(y_test, predictions, average='weighted')"
   ]
  },
  {
   "cell_type": "code",
   "execution_count": 56,
   "metadata": {},
   "outputs": [
    {
     "data": {
      "text/plain": [
       "0.948992734496956"
      ]
     },
     "execution_count": 56,
     "metadata": {},
     "output_type": "execute_result"
    }
   ],
   "source": [
    "f1_score(y_test,predictions, average='weighted')"
   ]
  },
  {
   "cell_type": "markdown",
   "metadata": {},
   "source": [
    "Using the MNIST dataset perform the following activities:\n",
    "<ol>\n",
    "     <li>Try to achieve an accuracy above 97% in the test set with KNeighborsClassifier, adjusting the 'weights' and 'n_neighbors' hyperparameters with the grid search </li>\n",
    "     <li>Write a function that modifies only the training images of the dataset by shifting one pixel in each image in any direction (left, right, up or down), that is, for each image in the training set, four images offsets are created and add them to the training set. Then train your best classifier with the new augmented set. Finally, measure the performance of the model through the metrics of accuracy, precision, recall and F1-score. Tip: Investigate the shift() function of the scipy.ndimage.interpolation module to shift the pixel. </li>\n",
    "</ol>"
   ]
  },
  {
   "cell_type": "markdown",
   "metadata": {},
   "source": [
    "1. Try to achieve an accuracy above 97% in the test set with KNeighborsClassifier, adjusting the 'weights' and 'n_neighbors' hyperparameters with the grid search "
   ]
  },
  {
   "cell_type": "code",
   "execution_count": 57,
   "metadata": {},
   "outputs": [],
   "source": [
    "from sklearn.neighbors import KNeighborsClassifier"
   ]
  },
  {
   "cell_type": "code",
   "execution_count": 58,
   "metadata": {},
   "outputs": [],
   "source": [
    "neigh = KNeighborsClassifier(weights='uniform',n_neighbors=3)"
   ]
  },
  {
   "cell_type": "code",
   "execution_count": 59,
   "metadata": {},
   "outputs": [
    {
     "data": {
      "text/plain": [
       "<bound method BaseEstimator.get_params of KNeighborsClassifier(n_neighbors=3)>"
      ]
     },
     "execution_count": 59,
     "metadata": {},
     "output_type": "execute_result"
    }
   ],
   "source": [
    "neigh.get_params"
   ]
  },
  {
   "cell_type": "code",
   "execution_count": 60,
   "metadata": {},
   "outputs": [
    {
     "data": {
      "text/plain": [
       "KNeighborsClassifier(n_neighbors=3)"
      ]
     },
     "execution_count": 60,
     "metadata": {},
     "output_type": "execute_result"
    }
   ],
   "source": [
    "neigh.fit(X_train, y_train)"
   ]
  },
  {
   "cell_type": "code",
   "execution_count": 64,
   "metadata": {},
   "outputs": [],
   "source": [
    "predictions = neigh.predict(X_test)"
   ]
  },
  {
   "cell_type": "code",
   "execution_count": 65,
   "metadata": {},
   "outputs": [
    {
     "data": {
      "text/plain": [
       "0.9705"
      ]
     },
     "execution_count": 65,
     "metadata": {},
     "output_type": "execute_result"
    }
   ],
   "source": [
    "accuracy_score(predictions,y_test)"
   ]
  },
  {
   "cell_type": "code",
   "execution_count": 66,
   "metadata": {},
   "outputs": [
    {
     "data": {
      "text/plain": [
       "array([[ 974,    1,    1,    0,    0,    1,    2,    1,    0,    0],\n",
       "       [   0, 1133,    2,    0,    0,    0,    0,    0,    0,    0],\n",
       "       [  10,    9,  996,    2,    0,    0,    0,   13,    2,    0],\n",
       "       [   0,    2,    4,  976,    1,   13,    1,    7,    3,    3],\n",
       "       [   1,    6,    0,    0,  950,    0,    4,    2,    0,   19],\n",
       "       [   6,    1,    0,   11,    2,  859,    5,    1,    3,    4],\n",
       "       [   5,    3,    0,    0,    3,    3,  944,    0,    0,    0],\n",
       "       [   0,   21,    5,    0,    1,    0,    0,  991,    0,   10],\n",
       "       [   8,    2,    4,   16,    8,   11,    3,    4,  914,    4],\n",
       "       [   4,    5,    2,    8,    9,    2,    1,    8,    2,  968]],\n",
       "      dtype=int64)"
      ]
     },
     "execution_count": 66,
     "metadata": {},
     "output_type": "execute_result"
    }
   ],
   "source": [
    "confusion_matrix(y_test,predictions)"
   ]
  },
  {
   "cell_type": "code",
   "execution_count": 67,
   "metadata": {},
   "outputs": [
    {
     "data": {
      "text/plain": [
       "0.9706882342922246"
      ]
     },
     "execution_count": 67,
     "metadata": {},
     "output_type": "execute_result"
    }
   ],
   "source": [
    "precision_score(y_test, predictions, average='weighted')"
   ]
  },
  {
   "cell_type": "code",
   "execution_count": 68,
   "metadata": {},
   "outputs": [
    {
     "data": {
      "text/plain": [
       "0.9705"
      ]
     },
     "execution_count": 68,
     "metadata": {},
     "output_type": "execute_result"
    }
   ],
   "source": [
    "recall_score(y_test, predictions, average='weighted')"
   ]
  },
  {
   "cell_type": "code",
   "execution_count": 69,
   "metadata": {},
   "outputs": [
    {
     "data": {
      "text/plain": [
       "0.9704523390961245"
      ]
     },
     "execution_count": 69,
     "metadata": {},
     "output_type": "execute_result"
    }
   ],
   "source": [
    "f1_score(y_test,predictions, average='weighted')"
   ]
  },
  {
   "cell_type": "code",
   "execution_count": 71,
   "metadata": {},
   "outputs": [],
   "source": [
    "param_grid = { \n",
    "    'n_neighbors': [3, 7 ,13],\n",
    "    'weights' : ['uniform','distance'],\n",
    "    'n_jobs' : [-1]\n",
    "}"
   ]
  },
  {
   "cell_type": "code",
   "execution_count": 72,
   "metadata": {},
   "outputs": [],
   "source": [
    "grid_search = GridSearchCV(KNeighborsClassifier(), param_grid, cv=5, scoring='accuracy')"
   ]
  },
  {
   "cell_type": "code",
   "execution_count": 73,
   "metadata": {
    "tags": []
   },
   "outputs": [
    {
     "data": {
      "text/plain": [
       "GridSearchCV(cv=5, estimator=KNeighborsClassifier(),\n",
       "             param_grid={'n_jobs': [-1], 'n_neighbors': [3, 7, 13],\n",
       "                         'weights': ['uniform', 'distance']},\n",
       "             scoring='accuracy')"
      ]
     },
     "execution_count": 73,
     "metadata": {},
     "output_type": "execute_result"
    }
   ],
   "source": [
    "grid_search.fit(X_train, y_train)"
   ]
  },
  {
   "cell_type": "code",
   "execution_count": 75,
   "metadata": {},
   "outputs": [
    {
     "data": {
      "text/plain": [
       "{'n_jobs': -1, 'n_neighbors': 3, 'weights': 'distance'}"
      ]
     },
     "execution_count": 75,
     "metadata": {},
     "output_type": "execute_result"
    }
   ],
   "source": [
    "grid_search.best_params_"
   ]
  },
  {
   "cell_type": "code",
   "execution_count": 76,
   "metadata": {},
   "outputs": [
    {
     "data": {
      "text/plain": [
       "KNeighborsClassifier(n_jobs=-1, n_neighbors=3, weights='distance')"
      ]
     },
     "execution_count": 76,
     "metadata": {},
     "output_type": "execute_result"
    }
   ],
   "source": [
    "# try to change weights and n_neigh to reach 97% ACC\n",
    "neigh_best =KNeighborsClassifier(weights='distance',n_neighbors=3,n_jobs=-1)\n",
    "neigh_best.fit(X_train,y_train)"
   ]
  },
  {
   "cell_type": "code",
   "execution_count": 77,
   "metadata": {},
   "outputs": [],
   "source": [
    "predictions = neigh_best.predict(X_test)"
   ]
  },
  {
   "cell_type": "code",
   "execution_count": 78,
   "metadata": {},
   "outputs": [
    {
     "data": {
      "text/plain": [
       "0.9717"
      ]
     },
     "execution_count": 78,
     "metadata": {},
     "output_type": "execute_result"
    }
   ],
   "source": [
    "accuracy_score(predictions,y_test)"
   ]
  },
  {
   "cell_type": "code",
   "execution_count": 109,
   "metadata": {},
   "outputs": [
    {
     "data": {
      "text/plain": [
       "array([[ 974,    1,    1,    0,    0,    1,    2,    1,    0,    0],\n",
       "       [   0, 1133,    2,    0,    0,    0,    0,    0,    0,    0],\n",
       "       [   9,    7,  997,    2,    0,    0,    1,   14,    2,    0],\n",
       "       [   0,    1,    4,  975,    1,   13,    1,    7,    4,    4],\n",
       "       [   0,    5,    0,    0,  948,    0,    5,    4,    1,   19],\n",
       "       [   4,    1,    0,   12,    2,  860,    5,    1,    3,    4],\n",
       "       [   4,    3,    0,    0,    4,    3,  944,    0,    0,    0],\n",
       "       [   0,   18,    4,    0,    2,    0,    0,  994,    0,   10],\n",
       "       [   7,    0,    3,   13,    5,   11,    3,    4,  923,    5],\n",
       "       [   3,    4,    2,    7,    9,    4,    1,    8,    2,  969]],\n",
       "      dtype=int64)"
      ]
     },
     "execution_count": 109,
     "metadata": {},
     "output_type": "execute_result"
    }
   ],
   "source": [
    "confusion_matrix(y_test,predictions)"
   ]
  },
  {
   "cell_type": "markdown",
   "metadata": {},
   "source": [
    "2. Write a function that modifies only the training images of the dataset by shifting one pixel in each image in any direction (left, right, up or down), that is, for each image in the training set, four images offsets are created and add them to the training set. Then train your best classifier with the new augmented set. Finally, measure the performance of the model through the metrics of accuracy, precision, recall and F1-score. Tip: Investigate the shift() function of the scipy.ndimage.interpolation module to shift the pixel."
   ]
  },
  {
   "cell_type": "code",
   "execution_count": 79,
   "metadata": {},
   "outputs": [],
   "source": [
    "import scipy.ndimage"
   ]
  },
  {
   "cell_type": "code",
   "execution_count": 80,
   "metadata": {},
   "outputs": [
    {
     "data": {
      "text/plain": [
       "(300000, 784)"
      ]
     },
     "execution_count": 80,
     "metadata": {},
     "output_type": "execute_result"
    }
   ],
   "source": [
    "a = []\n",
    "c = []\n",
    "for i in range(len(X_train)):\n",
    "    \n",
    "    test1 = scipy.ndimage.shift(X_train[i], 2)\n",
    "    \n",
    "    test2 = scipy.ndimage.shift(X_train[i], -2)\n",
    "    test3 = scipy.ndimage.shift(X_train[i], 4)\n",
    "    test4 = scipy.ndimage.shift(X_train[i], -4)\n",
    "    a.append(X_train[i])\n",
    "    a.append(test1)\n",
    "    a.append(test2)\n",
    "    a.append(test3)\n",
    "    a.append(test4)\n",
    "    for j in range(5):\n",
    "        c.append(y_train[i])\n",
    "b = np.array(a)\n",
    "c = np.array(c)\n",
    "b.shape"
   ]
  },
  {
   "cell_type": "code",
   "execution_count": 113,
   "metadata": {
    "collapsed": true,
    "jupyter": {
     "outputs_hidden": true
    },
    "tags": []
   },
   "outputs": [
    {
     "data": {
      "text/plain": [
       "array([ 0.00000000e+000,  0.00000000e+000, -5.03090874e-071,\n",
       "        3.88674601e-070, -1.45005524e-069,  5.41154637e-069,\n",
       "       -2.01961302e-068,  7.07364669e-068, -2.62749737e-067,\n",
       "        1.04981010e-066, -3.62120813e-066,  1.46219684e-065,\n",
       "       -5.93177128e-065,  2.03657747e-064, -7.60061061e-064,\n",
       "        2.83658650e-063, -9.37085225e-063,  3.95085532e-062,\n",
       "       -1.47447928e-061,  5.50283158e-061, -1.89810932e-060,\n",
       "        7.66445566e-060, -2.86041379e-059,  9.67952717e-059,\n",
       "       -3.98404247e-058,  1.64617408e-057, -5.54905531e-057,\n",
       "        1.94348828e-056, -7.72883702e-056,  2.88444124e-055,\n",
       "       -9.94921821e-055,  4.01750838e-054, -1.49935454e-053,\n",
       "        5.59566732e-053, -1.87952173e-052,  8.62899814e-052,\n",
       "       -2.90867052e-051,  1.01871150e-050, -3.78397894e-050,\n",
       "        1.61885969e-049, -5.21502852e-049,  2.10587344e-048,\n",
       "       -7.85922667e-048,  2.65941222e-047, -1.20412551e-046,\n",
       "        3.64738015e-046, -1.52464946e-045,  5.69006925e-045,\n",
       "       -1.98343291e-044,  7.92524410e-044, -2.95774136e-043,\n",
       "        1.10384410e-042, -3.76086987e-042,  1.68094946e-041,\n",
       "       -5.73786578e-041,  2.14140066e-040, -7.99181607e-040,\n",
       "        2.79891537e-039, -1.03964799e-038,  4.44808049e-038,\n",
       "       -1.55037112e-037,  5.78606379e-037, -1.97130931e-036,\n",
       "        8.81126363e-036, -2.70671350e-035,  1.12246655e-034,\n",
       "       -4.18910220e-034,  1.46709773e-033, -5.44948068e-033,\n",
       "        2.17752725e-032, -8.12664232e-032,  3.27942324e-031,\n",
       "       -1.13189526e-030,  3.82986016e-030, -1.57652672e-029,\n",
       "        5.25258909e-029, -2.19581845e-028,  7.69003506e-028,\n",
       "       -3.05838057e-027,  1.14140317e-026, -3.93665718e-026,\n",
       "        1.71901650e-025, -5.41611277e-025,  2.00746815e-024,\n",
       "       -8.26374316e-024,  3.08407093e-023, -1.15099094e-022,\n",
       "        4.03085888e-022, -1.60312358e-021,  5.98293864e-021,\n",
       "       -2.23286310e-020,  8.33315852e-020, -3.10997710e-019,\n",
       "        1.05223904e-018, -4.33163931e-018,  1.61658980e-017,\n",
       "       -6.03319526e-017,  2.11284125e-016, -8.40315697e-016,\n",
       "        1.51265095e-014,  2.40000000e+001,  1.68000000e+002,\n",
       "        2.54000000e+002,  1.82000000e+002,  1.06000000e+002,\n",
       "        8.70000000e+001,  7.70000000e+001,  9.00000000e+000,\n",
       "        1.85338797e-016,  1.05983438e-016,  2.56362422e-017,\n",
       "        7.20911040e-020, -3.37435315e-019,  1.12132821e-019,\n",
       "        1.08767757e-020,  8.83055652e-020, -1.33706075e-019,\n",
       "        4.46518733e-019, -1.86920929e-018,  6.10874659e-018,\n",
       "       -2.60352240e-017,  9.71647878e-017, -3.62623927e-016,\n",
       "        1.35333092e-015, -5.05069976e-015,  1.88494681e-014,\n",
       "        2.56871190e-014,  1.78000000e+002,  2.30000000e+002,\n",
       "        2.53000000e+002,  2.53000000e+002,  2.53000000e+002,\n",
       "        2.53000000e+002,  2.53000000e+002,  2.53000000e+002,\n",
       "        1.97000000e+002,  2.30000000e+001,  4.86984821e-016,\n",
       "        5.78950895e-017, -2.81452356e-017, -1.03662775e-017,\n",
       "        2.38981107e-018,  1.89123545e-018,  4.80693028e-019,\n",
       "        1.02672784e-019,  5.05164754e-020, -2.09870995e-019,\n",
       "        7.27981133e-019, -2.91889397e-018,  1.08933846e-017,\n",
       "       -3.71851976e-017,  1.37847406e-016, -5.66246130e-016,\n",
       "        2.63716324e-014,  4.90000000e+001,  2.54000000e+002,\n",
       "        2.53000000e+002,  2.10000000e+002,  2.53000000e+002,\n",
       "        2.53000000e+002,  1.75000000e+002,  1.54000000e+002,\n",
       "        2.15000000e+002,  2.53000000e+002,  7.60000000e+001,\n",
       "        7.18022619e-016,  5.74780972e-017, -5.28176945e-017,\n",
       "        1.13701493e-018, -4.63943121e-018, -1.01072701e-018,\n",
       "        5.77928028e-019, -8.46457855e-020,  3.97623891e-019,\n",
       "       -1.48213285e-018,  5.07012160e-018, -2.38941038e-017,\n",
       "        8.27000378e-017, -2.53129620e-016,  1.15186305e-015,\n",
       "       -3.85472220e-015,  1.42670258e-014,  1.07652503e-015,\n",
       "        1.22000000e+002,  4.40000000e+001,  6.00000000e+000,\n",
       "        3.20000000e+001,  2.49000000e+002,  5.00000000e+001,\n",
       "        3.04409663e-014,  4.90000000e+001,  2.53000000e+002,\n",
       "        1.43000000e+002, -4.21502597e-015, -8.29705721e-016,\n",
       "       -2.09956741e-016, -9.29463648e-017,  5.81400671e-018,\n",
       "       -4.90277146e-018,  3.52972177e-019,  1.02750958e-019,\n",
       "       -7.27971234e-020, -1.29784435e-021,  1.36139968e-020,\n",
       "       -3.96056158e-020,  1.34644071e-019, -5.53180777e-019,\n",
       "        1.84768608e-018, -7.70492526e-018,  2.87551745e-017,\n",
       "       -1.00376879e-016,  3.72752341e-016, -1.49471590e-015,\n",
       "        1.45711622e-014,  1.80000000e+001,  1.07000000e+002,\n",
       "        1.27351289e-014,  2.65166809e-014,  1.17000000e+002,\n",
       "        2.53000000e+002,  1.43000000e+002,  1.76681709e-015,\n",
       "       -4.93058672e-016,  1.22150870e-016,  2.52718753e-017,\n",
       "        9.21457514e-018, -2.71589677e-018, -9.53073254e-019,\n",
       "       -3.02283895e-019, -8.75106747e-020, -4.97097336e-021,\n",
       "       -4.41378086e-021,  1.02675663e-021, -7.31654218e-021,\n",
       "        3.37451262e-020, -9.97118755e-020,  4.49805670e-019,\n",
       "       -1.57753806e-018,  5.45377076e-018, -2.02375450e-017,\n",
       "        7.50627283e-017, -3.33789796e-016,  1.14213526e-015,\n",
       "       -4.26250682e-015,  1.61299366e-014,  4.00000000e+000,\n",
       "        1.89000000e+002,  2.53000000e+002,  5.60000000e+001,\n",
       "       -6.71708870e-017, -3.93922467e-018, -7.72622031e-019,\n",
       "       -4.51282195e-019,  2.98757037e-020, -1.01901489e-019,\n",
       "       -2.03752322e-020, -5.48592910e-021,  8.14334234e-022,\n",
       "        1.50714467e-022,  1.38860454e-021, -4.81839499e-021,\n",
       "        1.62967887e-020, -6.71450232e-020,  2.23484184e-019,\n",
       "       -9.35211930e-019,  3.49025848e-018, -1.38931837e-017,\n",
       "        4.86130295e-017, -1.67548508e-016,  6.21581003e-016,\n",
       "       -2.30489772e-015,  9.43067714e-015,  2.37570764e-014,\n",
       "        1.18000000e+002,  2.53000000e+002,  2.16000000e+002,\n",
       "        1.70000000e+001, -1.15193059e-015, -7.40839802e-017,\n",
       "       -2.97178950e-017, -6.53763938e-018,  1.65834392e-018,\n",
       "        7.71625419e-019, -8.27762594e-020,  2.70418053e-020,\n",
       "        2.71250810e-020,  1.26886364e-020,  1.26813773e-022,\n",
       "        7.02702010e-021, -2.47673530e-020,  9.24659085e-020,\n",
       "       -3.17991227e-019,  1.28791922e-018, -4.37289971e-018,\n",
       "        1.96731266e-017, -6.69470319e-017,  2.49849724e-016,\n",
       "       -9.32451866e-016,  3.25791313e-015,  2.39830476e-014,\n",
       "        7.40000000e+001,  2.45000000e+002,  2.46000000e+002,\n",
       "        9.80000000e+001, -3.68658783e-015, -1.35190731e-015,\n",
       "       -7.90006706e-017,  2.68615842e-017,  3.64671812e-018,\n",
       "        1.84906745e-019, -3.74797066e-019, -4.09711988e-020,\n",
       "        3.04620922e-020, -1.39615673e-020, -1.72087751e-021,\n",
       "       -7.53052644e-021,  2.67607856e-020, -9.31598688e-020,\n",
       "        3.72983744e-019, -1.39199884e-018,  5.19501163e-018,\n",
       "       -1.76533242e-017,  7.92960730e-017, -2.70040669e-016,\n",
       "        1.00780550e-015, -3.76118131e-015,  2.07537691e-014,\n",
       "        1.70000000e+001,  2.16000000e+002,  2.53000000e+002,\n",
       "        1.75000000e+002, -8.33318030e-015,  9.09887198e-017,\n",
       "       -2.43803539e-017, -1.66939652e-016,  8.65791092e-018,\n",
       "       -1.69938057e-018,  9.11752808e-020,  4.67317711e-019,\n",
       "        1.53748110e-019,  8.66828466e-021, -1.22696729e-021,\n",
       "       -1.13837120e-020,  2.55859918e-020, -1.01971683e-019,\n",
       "        3.53501621e-019, -1.42045502e-018,  4.86753253e-018,\n",
       "       -1.97843986e-017,  6.68974870e-017, -2.75561125e-016,\n",
       "        1.02840812e-015, -3.83807135e-015,  2.43158845e-014,\n",
       "        2.00000000e+001,  2.28000000e+002,  2.53000000e+002,\n",
       "        1.95000000e+002,  1.30000000e+001,  1.18060912e-015,\n",
       "        3.66512470e-017, -9.20909950e-017, -3.43139203e-017,\n",
       "       -1.80522677e-018,  9.85666169e-019, -1.85873999e-019,\n",
       "       -1.20197430e-019,  2.58988803e-021, -2.83185410e-019,\n",
       "        9.53968897e-019, -3.34295480e-018,  1.32852120e-017,\n",
       "       -5.30504999e-017,  1.71161212e-016, -7.46086097e-016,\n",
       "        2.35521618e-015,  2.87154084e-015,  2.50000000e+001,\n",
       "        3.40000000e+001,  3.40000000e+001,  3.40000000e+001,\n",
       "        7.70000000e+001,  2.02000000e+002,  2.54000000e+002,\n",
       "        1.90000000e+002,  1.00000000e+001,  2.94737829e-016,\n",
       "        3.69099942e-016,  9.54248644e-017, -1.39885769e-018,\n",
       "        1.24354887e-018,  4.44775828e-018,  3.18426773e-019,\n",
       "       -1.37824187e-019,  2.87080083e-019, -9.56286037e-019,\n",
       "        3.97174493e-018, -1.48222735e-017,  5.18479021e-017,\n",
       "       -2.06447123e-016,  7.14959990e-016, -2.87543744e-015,\n",
       "        1.13419013e-014,  3.00000000e+000,  1.34000000e+002,\n",
       "        2.34000000e+002,  2.53000000e+002,  2.54000000e+002,\n",
       "        2.53000000e+002,  2.53000000e+002,  2.53000000e+002,\n",
       "        2.53000000e+002,  1.07000000e+002,  6.00000000e+000,\n",
       "       -4.60413023e-018,  3.54299124e-017, -2.08890465e-017,\n",
       "       -4.78279252e-018, -1.39630644e-018,  9.52026925e-020,\n",
       "        1.21028877e-019, -1.18532277e-019,  3.80205287e-019,\n",
       "       -1.61912930e-018,  6.47578269e-018, -2.08145545e-017,\n",
       "        8.41550101e-017, -2.86315187e-016,  1.17212804e-015,\n",
       "        1.31115712e-014,  3.50000000e+001,  1.54000000e+002,\n",
       "        2.53000000e+002,  2.23000000e+002,  1.54000000e+002,\n",
       "        2.54000000e+002,  2.53000000e+002,  2.53000000e+002,\n",
       "        2.53000000e+002,  2.53000000e+002,  2.53000000e+002,\n",
       "        1.60000000e+002,  3.90000000e+001,  3.59578783e-016,\n",
       "       -1.86515211e-016, -1.94432317e-017, -1.24002565e-017,\n",
       "       -3.44681309e-019,  7.68555673e-019, -2.51270095e-018,\n",
       "        9.28224811e-018, -3.78688980e-017,  1.55203770e-016,\n",
       "       -5.27435031e-016,  1.12387764e-014,  1.90000000e+001,\n",
       "        1.38000000e+002,  2.43000000e+002,  1.91000000e+002,\n",
       "        1.21000000e+002,  5.40000000e+001,  1.40000000e+001,\n",
       "        1.20000000e+002,  2.55000000e+002,  2.53000000e+002,\n",
       "        1.91000000e+002,  1.12000000e+002,  8.30000000e+001,\n",
       "        2.25000000e+002,  2.53000000e+002,  2.09000000e+002,\n",
       "        6.00000000e+000, -4.55783206e-016,  1.95819867e-016,\n",
       "       -2.21849299e-017, -1.26201512e-018, -2.48087138e-017,\n",
       "        8.14149122e-017, -2.76564806e-016,  1.02484431e-015,\n",
       "       -3.79505687e-015,  2.33147231e-014,  1.50000000e+001,\n",
       "        2.20000000e+002,  2.53000000e+002,  1.93000000e+002,\n",
       "        1.90000000e+001,  1.91434127e-014,  5.40000000e+001,\n",
       "        1.93000000e+002,  2.53000000e+002,  2.47000000e+002,\n",
       "        1.21000000e+002,  1.50000000e+001,  9.08869596e-015,\n",
       "        2.33870095e-014,  1.08000000e+002,  2.49000000e+002,\n",
       "        2.53000000e+002,  1.38000000e+002, -1.62872411e-017,\n",
       "       -8.80860277e-016, -1.79518784e-016, -8.37463598e-017,\n",
       "        6.69455663e-017, -2.15260928e-016,  8.04506486e-016,\n",
       "       -2.78072041e-015,  1.63135795e-014,  1.20000000e+001,\n",
       "        1.80000000e+002,  2.53000000e+002,  1.49000000e+002,\n",
       "        1.90000000e+001,  2.46004277e-014,  8.70000000e+001,\n",
       "        2.32000000e+002,  2.53000000e+002,  2.53000000e+002,\n",
       "        4.80000000e+001, -1.71524837e-016,  9.66292366e-016,\n",
       "       -3.39874164e-015,  1.26286742e-014,  2.19954282e-014,\n",
       "        1.45000000e+002,  2.53000000e+002,  2.37000000e+002,\n",
       "        2.60000000e+001, -2.72801647e-016,  1.12672896e-016,\n",
       "        4.06852210e-017,  8.19392563e-017, -2.19256027e-016,\n",
       "        7.63859830e-016, -3.05822790e-015,  3.08979547e-014,\n",
       "        3.90000000e+001,  2.53000000e+002,  1.10000000e+002,\n",
       "        1.10000000e+001,  3.00000000e+000,  1.36000000e+002,\n",
       "        2.52000000e+002,  2.51000000e+002,  1.60000000e+002,\n",
       "        3.60000000e+001,  1.84947811e-016,  1.12823952e-016,\n",
       "       -2.19909985e-016,  8.63960503e-016, -3.43022106e-015,\n",
       "        2.02954180e-014,  1.50000000e+001,  2.06000000e+002,\n",
       "        2.53000000e+002,  9.10000000e+001,  3.44781060e-016,\n",
       "        3.41245372e-016,  4.14424487e-018, -3.02311201e-016,\n",
       "        9.20605908e-016, -3.85195722e-015,  1.43762007e-014,\n",
       "        3.13347271e-014,  1.63000000e+002,  2.53000000e+002,\n",
       "        8.10000000e+001,  1.03000000e+002,  1.76000000e+002,\n",
       "        2.53000000e+002,  2.51000000e+002,  1.25000000e+002,\n",
       "       -6.47234236e-016, -9.42867013e-016,  6.10769165e-017,\n",
       "        5.32422140e-017, -9.36345311e-017,  3.69868168e-016,\n",
       "       -1.48298265e-015,  5.09021766e-015,  2.33105869e-014,\n",
       "        8.80000000e+001,  2.53000000e+002,  2.53000000e+002,\n",
       "       -5.40567298e-015, -3.67232515e-015,  2.77492610e-016,\n",
       "       -6.01780907e-016,  2.07411987e-015, -8.63838814e-015,\n",
       "        2.89267190e-014,  2.60472528e-014,  2.54000000e+002,\n",
       "        2.53000000e+002,  2.53000000e+002,  2.53000000e+002,\n",
       "        2.53000000e+002,  1.92000000e+002,  7.20000000e+001,\n",
       "       -1.76216890e-015, -6.67930141e-016,  2.01164184e-016,\n",
       "        3.16558528e-019, -8.14138909e-018, -2.44547170e-018,\n",
       "       -1.15670232e-017,  3.31010533e-017, -1.36449701e-016,\n",
       "        6.50443264e-015,  1.20000000e+001,  6.60000000e+001,\n",
       "        6.60000000e+001, -1.68765129e-015, -7.52179828e-016,\n",
       "        3.34339018e-017, -1.58711896e-016,  6.01413684e-016,\n",
       "       -2.02489824e-015,  8.38635768e-015,  2.72102655e-014,\n",
       "        1.10000000e+002,  2.53000000e+002,  2.53000000e+002,\n",
       "        1.47000000e+002,  1.19000000e+002,  7.00000000e+000,\n",
       "       -1.71973241e-016,  1.43389941e-017, -5.19161890e-017,\n",
       "       -7.90216112e-018,  4.12662384e-020,  2.56101177e-019,\n",
       "       -1.16994046e-019,  1.53633639e-020, -3.75171556e-021,\n",
       "       -3.56501610e-022, -4.33871274e-022,  2.73438952e-023,\n",
       "       -4.60812217e-023, -6.80076967e-024, -4.47067720e-024,\n",
       "       -9.59120531e-025, -8.43526206e-025, -7.40963453e-026,\n",
       "       -1.03864519e-026, -7.14246928e-027,  1.82237803e-028,\n",
       "       -2.00291766e-028, -2.01486081e-028, -9.81675741e-030,\n",
       "       -2.21604854e-030,  2.90373347e-030, -9.18630599e-031,\n",
       "       -3.63198622e-031, -1.30743097e-031, -1.82456930e-032,\n",
       "       -1.19307733e-033,  3.88325496e-034,  8.87216027e-037,\n",
       "        1.01645188e-034, -5.23746361e-035, -1.98483620e-036,\n",
       "       -2.31635813e-036, -2.22556151e-037, -8.48014490e-038,\n",
       "       -4.36176435e-038, -2.57853572e-038, -7.15721921e-039,\n",
       "       -1.60541860e-039, -1.84951385e-040, -4.53686213e-041,\n",
       "       -3.78597381e-042, -4.05931673e-042, -3.34823371e-043,\n",
       "       -1.84162871e-043,  6.48802226e-045, -1.35944453e-046,\n",
       "       -3.14164751e-045,  7.91497563e-046, -9.00286023e-047,\n",
       "        1.74702609e-047,  3.93059361e-047,  1.83675834e-048,\n",
       "        3.87689465e-049, -2.22962783e-049, -7.31555093e-050,\n",
       "       -2.96591804e-050, -5.32416656e-051, -6.00745127e-051,\n",
       "       -1.21577474e-051, -1.54604185e-052,  8.01896420e-053,\n",
       "        1.78592026e-053,  6.28591572e-054,  6.41440224e-056,\n",
       "       -5.79704919e-056, -6.67651840e-056,  8.96179281e-057,\n",
       "        1.27567650e-056,  2.61965936e-057, -1.35569727e-058,\n",
       "       -2.62746190e-059, -3.31444687e-059, -4.19050628e-060,\n",
       "       -3.32037603e-062, -3.05046296e-061, -1.07895649e-061,\n",
       "        7.66939798e-065, -3.01549970e-063,  2.56570161e-063,\n",
       "       -3.06752606e-065,  4.48381801e-065,  1.27471919e-065,\n",
       "        2.40545953e-065,  3.20082103e-066,  6.79286855e-067,\n",
       "        7.23994866e-068, -1.84007252e-068,  5.83992166e-069,\n",
       "        4.31405389e-069, -2.75825927e-070, -9.55965740e-071,\n",
       "       -1.11520498e-070, -2.43013749e-071, -1.25256080e-072,\n",
       "        5.88135977e-073, -4.63255674e-073,  1.15239961e-073,\n",
       "        4.43021530e-074, -2.82602473e-075, -9.40596455e-076,\n",
       "       -1.82345598e-076, -1.26344211e-076,  2.27374648e-077,\n",
       "       -2.29843235e-079, -1.84695209e-078, -8.83576812e-079,\n",
       "       -1.17551106e-079,  2.96811741e-080,  2.20192451e-080,\n",
       "       -1.00331214e-081,  4.75174740e-083,  3.19076716e-082,\n",
       "       -2.25217801e-083, -1.69102230e-083,  2.65419311e-084,\n",
       "       -1.40996442e-085,  3.31601576e-086, -7.20747760e-086,\n",
       "        7.81489053e-087,  1.60530260e-087,  1.85001653e-087,\n",
       "        6.71436300e-088,  2.39804388e-088,  5.80743015e-089,\n",
       "        3.09865405e-090, -7.59790439e-091,  7.99599065e-091,\n",
       "        2.00031916e-091, -7.33054812e-092, -3.81665941e-092,\n",
       "       -7.97712798e-093, -2.43469738e-093, -1.41868790e-094,\n",
       "        2.08810363e-095,  2.46365753e-095,  1.35991266e-096,\n",
       "       -1.13497219e-097,  2.35234829e-097,  8.69478173e-098,\n",
       "       -1.47411304e-099,  2.15811698e-099, -5.29028021e-100,\n",
       "       -2.13453007e-100, -7.44688758e-101,  5.77053891e-101,\n",
       "       -4.54966783e-102,  2.29953190e-103, -1.65220258e-103,\n",
       "       -7.13615410e-104,  2.86038168e-104,  1.62443258e-104,\n",
       "       -1.58193660e-105])"
      ]
     },
     "execution_count": 113,
     "metadata": {},
     "output_type": "execute_result"
    }
   ],
   "source": [
    "test1=scipy.ndimage.shift(X_train[0],shift=2)\n",
    "test1"
   ]
  },
  {
   "cell_type": "code",
   "execution_count": 86,
   "metadata": {},
   "outputs": [
    {
     "data": {
      "text/plain": [
       "(300000,)"
      ]
     },
     "execution_count": 86,
     "metadata": {},
     "output_type": "execute_result"
    }
   ],
   "source": [
    "c.shape"
   ]
  },
  {
   "cell_type": "code",
   "execution_count": null,
   "metadata": {},
   "outputs": [
    {
     "data": {
      "text/plain": [
       "(300000, 784)"
      ]
     },
     "execution_count": 87,
     "metadata": {},
     "output_type": "execute_result"
    }
   ],
   "source": [
    "b.shape"
   ]
  },
  {
   "cell_type": "code",
   "execution_count": 119,
   "metadata": {},
   "outputs": [
    {
     "data": {
      "image/png": "[encoded data removed]",
      "text/plain": [
       "<Figure size 432x288 with 1 Axes>"
      ]
     },
     "metadata": {
      "needs_background": "light"
     },
     "output_type": "display_data"
    }
   ],
   "source": [
    "digito = test1.reshape(28,28)\n",
    "plt.imshow(digito, cmap = mpl.cm.binary,\n",
    "           interpolation=\"nearest\")\n",
    "plt.axis(\"off\")\n",
    "plt.show()"
   ]
  },
  {
   "cell_type": "code",
   "execution_count": 120,
   "metadata": {},
   "outputs": [
    {
     "data": {
      "image/png": "[encoded data removed]",
      "text/plain": [
       "<Figure size 432x288 with 1 Axes>"
      ]
     },
     "metadata": {
      "needs_background": "light"
     },
     "output_type": "display_data"
    }
   ],
   "source": [
    "digito = X_train[0].reshape(28,28)\n",
    "plt.imshow(digito, cmap = mpl.cm.binary,\n",
    "           interpolation=\"nearest\")\n",
    "plt.axis(\"off\")\n",
    "plt.show()"
   ]
  },
  {
   "cell_type": "code",
   "execution_count": 116,
   "metadata": {},
   "outputs": [
    {
     "data": {
      "text/plain": [
       "2"
      ]
     },
     "execution_count": 116,
     "metadata": {},
     "output_type": "execute_result"
    }
   ],
   "source": [
    "y_train[0]"
   ]
  },
  {
   "cell_type": "code",
   "execution_count": 99,
   "metadata": {},
   "outputs": [
    {
     "data": {
      "text/plain": [
       "KNeighborsClassifier(n_jobs=-1, n_neighbors=3, weights='distance')"
      ]
     },
     "execution_count": 99,
     "metadata": {},
     "output_type": "execute_result"
    }
   ],
   "source": [
    "neigh_best =KNeighborsClassifier(weights='distance',n_neighbors=3,n_jobs=-1)\n",
    "neigh_best.fit(b,c)"
   ]
  },
  {
   "cell_type": "code",
   "execution_count": 100,
   "metadata": {},
   "outputs": [],
   "source": [
    "predictions2 = neigh_best.predict(X_test)"
   ]
  },
  {
   "cell_type": "markdown",
   "metadata": {},
   "source": [
    "### Evaluation"
   ]
  },
  {
   "cell_type": "code",
   "execution_count": 101,
   "metadata": {},
   "outputs": [
    {
     "data": {
      "text/plain": [
       "0.9703"
      ]
     },
     "execution_count": 101,
     "metadata": {},
     "output_type": "execute_result"
    }
   ],
   "source": [
    "accuracy_score(predictions2,y_test)"
   ]
  },
  {
   "cell_type": "code",
   "execution_count": 102,
   "metadata": {},
   "outputs": [
    {
     "data": {
      "text/plain": [
       "array([[ 973,    1,    1,    0,    0,    1,    2,    2,    0,    0],\n",
       "       [   0, 1133,    2,    0,    0,    0,    0,    0,    0,    0],\n",
       "       [   8,   14,  995,    1,    1,    0,    1,    9,    3,    0],\n",
       "       [   0,    3,    5,  972,    1,   15,    0,    6,    4,    4],\n",
       "       [   1,    9,    1,    0,  947,    0,    2,    2,    1,   19],\n",
       "       [   3,    3,    0,   13,    2,  859,    4,    1,    2,    5],\n",
       "       [   3,    4,    0,    0,    3,    4,  944,    0,    0,    0],\n",
       "       [   0,   18,    5,    1,    1,    0,    0,  994,    0,    9],\n",
       "       [   4,    2,    3,   21,    5,    9,    4,    6,  916,    4],\n",
       "       [   3,    6,    1,    8,    7,    4,    1,    7,    2,  970]],\n",
       "      dtype=int64)"
      ]
     },
     "execution_count": 102,
     "metadata": {},
     "output_type": "execute_result"
    }
   ],
   "source": [
    "confusion_matrix(y_test,predictions2)"
   ]
  },
  {
   "cell_type": "code",
   "execution_count": 106,
   "metadata": {},
   "outputs": [
    {
     "data": {
      "text/plain": [
       "0.9705314815635394"
      ]
     },
     "execution_count": 106,
     "metadata": {},
     "output_type": "execute_result"
    }
   ],
   "source": [
    "precision_score(y_test, predictions2, average='weighted')"
   ]
  },
  {
   "cell_type": "code",
   "execution_count": 107,
   "metadata": {},
   "outputs": [
    {
     "data": {
      "text/plain": [
       "0.9703"
      ]
     },
     "execution_count": 107,
     "metadata": {},
     "output_type": "execute_result"
    }
   ],
   "source": [
    "recall_score(y_test, predictions2, average='weighted')"
   ]
  },
  {
   "cell_type": "code",
   "execution_count": 108,
   "metadata": {},
   "outputs": [
    {
     "data": {
      "text/plain": [
       "0.9702713561516335"
      ]
     },
     "execution_count": 108,
     "metadata": {},
     "output_type": "execute_result"
    }
   ],
   "source": [
    "f1_score(y_test,predictions2, average='weighted')"
   ]
  }
 ],
 "metadata": {
  "kernelspec": {
   "display_name": "Python 3 (ipykernel)",
   "language": "python",
   "name": "python3"
  },
  "language_info": {
   "codemirror_mode": {
    "name": "ipython",
    "version": 3
   },
   "file_extension": ".py",
   "mimetype": "text/x-python",
   "name": "python",
   "nbconvert_exporter": "python",
   "pygments_lexer": "ipython3",
   "version": "3.9.7"
  }
 },
 "nbformat": 4,
 "nbformat_minor": 4
}
